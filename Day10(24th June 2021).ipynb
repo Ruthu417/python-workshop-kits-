{
 "cells": [
  {
   "cell_type": "markdown",
   "metadata": {},
   "source": [
    "### Today Topics\n",
    "- comprehensions\n",
    "    - list and dict\n",
    "- Functional programming in python\n",
    "- source code management using git&github"
   ]
  },
  {
   "cell_type": "markdown",
   "metadata": {},
   "source": [
    "#### comprehension\n",
    "- describing the perticular thing in a short form\n",
    "- short description about something\n",
    "- Example :Tree\n",
    "    - a root,branhes,fruits and flowers\n",
    "- **list and dictionary**\n",
    "    - list comprehension\n",
    "    - syntax:\n",
    "        [output input sequence condition_check]\n"
   ]
  },
  {
   "cell_type": "code",
   "execution_count": 27,
   "metadata": {},
   "outputs": [
    {
     "name": "stdout",
     "output_type": "stream",
     "text": [
      "90 65 34 10 11 63 72 75 101\n"
     ]
    },
    {
     "data": {
      "text/plain": [
       "['90', '34', '10', '72']"
      ]
     },
     "execution_count": 27,
     "metadata": {},
     "output_type": "execute_result"
    }
   ],
   "source": [
    "# write a program to prepae the list of evens\n",
    "nums=input().split()\n",
    "evens=[]\n",
    "for num in nums:\n",
    "    if int(num)%2==0:\n",
    "        evens.append(int(num))\n",
    "evens"
   ]
  },
  {
   "cell_type": "code",
   "execution_count": 1,
   "metadata": {
    "collapsed": true
   },
   "outputs": [
    {
     "name": "stdout",
     "output_type": "stream",
     "text": [
      "90 65 13 18 95 25 49 72 36 41\n",
      "90\n",
      "18\n",
      "72\n",
      "36\n"
     ]
    }
   ],
   "source": [
    "e=[print(int(num)) for num in input().split() if int(num)%2==0]"
   ]
  },
  {
   "cell_type": "markdown",
   "metadata": {},
   "source": [
    "### Functional programming\n",
    "- entire program is in funtions\n",
    "- **anonymous functions**\n",
    "   - these are the functions without name\n",
    "- iterators()\n",
    "- generators()\n",
    "- map()\n",
    "- lambda()\n",
    "- filter()"
   ]
  },
  {
   "cell_type": "markdown",
   "metadata": {},
   "source": [
    "#### General syntax of functions\n",
    "def function_name()\n",
    "    - statements\n",
    "    - return"
   ]
  },
  {
   "cell_type": "markdown",
   "metadata": {},
   "source": [
    "### iterators()\n",
    "- iterating statements\n",
    "    - for & while\n",
    "    - syntax:for iterator in iterable\n",
    "    \n",
    "- iterators()\n",
    "    - anonymous function which iterates the iterable\n",
    "    - iter(iterable)\n",
    "    - next()"
   ]
  },
  {
   "cell_type": "code",
   "execution_count": 3,
   "metadata": {},
   "outputs": [
    {
     "name": "stdout",
     "output_type": "stream",
     "text": [
      "Enter the stringhjoiu7897yghbnlkkuyt76890\n",
      "h j o i u 7 8 9 7 y g h b n l k k u y t 7 6 8 9 0 "
     ]
    }
   ],
   "source": [
    "st=input(\"Enter the string\")\n",
    "for ch in st:\n",
    "    print(ch,end=\" \") # iteration,we didnot end the iteration"
   ]
  },
  {
   "cell_type": "code",
   "execution_count": 4,
   "metadata": {},
   "outputs": [
    {
     "name": "stdout",
     "output_type": "stream",
     "text": [
      "h\n",
      "j\n",
      "o\n"
     ]
    }
   ],
   "source": [
    "it=iter(st) # initialize\n",
    "print(next(it))\n",
    "print(next(it))\n",
    "print(next(it)) # user stops the iteration wherever he used to stop"
   ]
  },
  {
   "cell_type": "code",
   "execution_count": 5,
   "metadata": {
    "collapsed": true
   },
   "outputs": [
    {
     "name": "stdout",
     "output_type": "stream",
     "text": [
      "1\n",
      "90\n",
      "76\n",
      "54\n",
      "12\n",
      "30\n"
     ]
    }
   ],
   "source": [
    "nums=[1,90,76,54,12,30]\n",
    "for num in nums:\n",
    "    print(num) # printing"
   ]
  },
  {
   "cell_type": "code",
   "execution_count": 9,
   "metadata": {
    "collapsed": true
   },
   "outputs": [
    {
     "name": "stdout",
     "output_type": "stream",
     "text": [
      "list[0]: 1\n",
      "4+9: 94\n",
      "67\n",
      "432\n"
     ]
    }
   ],
   "source": [
    "#5 +1,9+90,76-10 \n",
    "i=iter(nums)\n",
    "print(\"list[0]:\",next(i))\n",
    "print(\"4+9:\",next(i)+4)\n",
    "print(next(i)-9)\n",
    "print(next(i)*8)"
   ]
  },
  {
   "cell_type": "markdown",
   "metadata": {},
   "source": [
    "#### Generators\n",
    "- def function_name():\n",
    "    - statements\n",
    "    - yield "
   ]
  },
  {
   "cell_type": "code",
   "execution_count": 10,
   "metadata": {},
   "outputs": [
    {
     "data": {
      "text/plain": [
       "14"
      ]
     },
     "execution_count": 10,
     "metadata": {},
     "output_type": "execute_result"
    }
   ],
   "source": [
    "def add(x,y):\n",
    "    return x+y\n",
    "\n",
    "add(9,5)"
   ]
  },
  {
   "cell_type": "code",
   "execution_count": 14,
   "metadata": {},
   "outputs": [
    {
     "name": "stdout",
     "output_type": "stream",
     "text": [
      "1\n",
      "2\n",
      "3\n"
     ]
    }
   ],
   "source": [
    "def generator_example():\n",
    "    yield 1\n",
    "    yield 2\n",
    "    yield 3\n",
    "    yield 4\n",
    "    yield 3\n",
    "\n",
    "g=generator_example()\n",
    "ir=iter(g) # initialized\n",
    "print(next(ir)) #1\n",
    "print(next(ir)) #2\n",
    "print(next(ir)) #3"
   ]
  },
  {
   "cell_type": "code",
   "execution_count": 12,
   "metadata": {},
   "outputs": [
    {
     "name": "stdout",
     "output_type": "stream",
     "text": [
      "4\n",
      "3\n"
     ]
    }
   ],
   "source": [
    "for val in g:\n",
    "    print(val)"
   ]
  },
  {
   "cell_type": "code",
   "execution_count": 15,
   "metadata": {},
   "outputs": [
    {
     "name": "stdout",
     "output_type": "stream",
     "text": [
      "1 2 3 4 3 "
     ]
    }
   ],
   "source": [
    "for num in generator_example():\n",
    "    print(num,end=\" \")"
   ]
  },
  {
   "cell_type": "code",
   "execution_count": 17,
   "metadata": {
    "collapsed": true
   },
   "outputs": [
    {
     "name": "stdout",
     "output_type": "stream",
     "text": [
      "1\n",
      "2\n",
      "3\n",
      "4\n",
      "5\n"
     ]
    }
   ],
   "source": [
    "def generator(n):\n",
    "    for num in range(1,6):\n",
    "        yield num\n",
    "        \n",
    "num=generator(10) # 10\n",
    "for i in num:\n",
    "    print(i)"
   ]
  },
  {
   "cell_type": "markdown",
   "metadata": {},
   "source": [
    "#### map()\n",
    "- a function is matched/mapped to an iterable\n",
    "- a list of results when a function is applied on iterable\n",
    "- syntax:\n",
    "    - map(fun,iterable)"
   ]
  },
  {
   "cell_type": "code",
   "execution_count": 3,
   "metadata": {
    "collapsed": true
   },
   "outputs": [
    {
     "name": "stdout",
     "output_type": "stream",
     "text": [
      "90 87 56 12 80\n",
      "90\n",
      "87\n",
      "56\n",
      "12\n",
      "80\n"
     ]
    }
   ],
   "source": [
    "#input().split() # words,integers(chars)\n",
    "nums=list(map(int,input().split()))\n",
    "for num in nums:\n",
    "    print(num)"
   ]
  },
  {
   "cell_type": "code",
   "execution_count": 1,
   "metadata": {},
   "outputs": [
    {
     "name": "stdout",
     "output_type": "stream",
     "text": [
      "<class 'int'>\n"
     ]
    }
   ],
   "source": [
    "n=int('8')\n",
    "print(type(n))"
   ]
  },
  {
   "cell_type": "code",
   "execution_count": 6,
   "metadata": {},
   "outputs": [
    {
     "name": "stdout",
     "output_type": "stream",
     "text": [
      "0987 456756789\n"
     ]
    },
    {
     "data": {
      "text/plain": [
       "[987, 456756789]"
      ]
     },
     "execution_count": 6,
     "metadata": {},
     "output_type": "execute_result"
    }
   ],
   "source": [
    "n=list(map(int,input().split()))\n",
    "n"
   ]
  },
  {
   "cell_type": "code",
   "execution_count": 7,
   "metadata": {},
   "outputs": [
    {
     "data": {
      "text/plain": [
       "5"
      ]
     },
     "execution_count": 7,
     "metadata": {},
     "output_type": "execute_result"
    }
   ],
   "source": [
    "def find_length(st):\n",
    "    return len(st) # length of string\n",
    "\n",
    "find_length(\"ruthu\")"
   ]
  },
  {
   "cell_type": "code",
   "execution_count": 9,
   "metadata": {},
   "outputs": [
    {
     "data": {
      "text/plain": [
       "12"
      ]
     },
     "execution_count": 9,
     "metadata": {},
     "output_type": "execute_result"
    }
   ],
   "source": [
    "def largest(a,b):\n",
    "    if a>b:\n",
    "        return a\n",
    "    else:return b\n",
    "    \n",
    "largest(9,12)"
   ]
  },
  {
   "cell_type": "code",
   "execution_count": 8,
   "metadata": {},
   "outputs": [
    {
     "name": "stdout",
     "output_type": "stream",
     "text": [
      "Enter the words:ruthu I am from APSSDC Tadepalli\n"
     ]
    },
    {
     "data": {
      "text/plain": [
       "[5, 1, 2, 4, 6, 9]"
      ]
     },
     "execution_count": 8,
     "metadata": {},
     "output_type": "execute_result"
    }
   ],
   "source": [
    "lengths=list(map(find_length,input(\"Enter the words:\").split()))\n",
    "lengths"
   ]
  },
  {
   "cell_type": "code",
   "execution_count": 10,
   "metadata": {},
   "outputs": [
    {
     "data": {
      "text/plain": [
       "[5, 2]"
      ]
     },
     "execution_count": 10,
     "metadata": {},
     "output_type": "execute_result"
    }
   ],
   "source": [
    "m=list(map(largest,[1,2],[5,1])) # [2,5]\n",
    "m"
   ]
  },
  {
   "cell_type": "markdown",
   "metadata": {},
   "source": [
    "#### lambda\n",
    "- anynomus function\n",
    "- it can take any no.of aguments and returns single value\n",
    "- it posses only single expression\n",
    "- syntax:\n",
    "    - lambda val:args"
   ]
  },
  {
   "cell_type": "code",
   "execution_count": 12,
   "metadata": {},
   "outputs": [
    {
     "data": {
      "text/plain": [
       "125"
      ]
     },
     "execution_count": 12,
     "metadata": {},
     "output_type": "execute_result"
    }
   ],
   "source": [
    "p=lambda num:num**3 \n",
    "p(5)"
   ]
  },
  {
   "cell_type": "code",
   "execution_count": 14,
   "metadata": {},
   "outputs": [
    {
     "data": {
      "text/plain": [
       "45"
      ]
     },
     "execution_count": 14,
     "metadata": {},
     "output_type": "execute_result"
    }
   ],
   "source": [
    "product=lambda x,y:x*y\n",
    "product(9,5)"
   ]
  },
  {
   "cell_type": "code",
   "execution_count": 15,
   "metadata": {},
   "outputs": [
    {
     "data": {
      "text/plain": [
       "[True, False, True, False, False, False, True]"
      ]
     },
     "execution_count": 15,
     "metadata": {},
     "output_type": "execute_result"
    }
   ],
   "source": [
    "# evens present in list using lambda\n",
    "evens=list(map(lambda num:num%2==0,[90,87,56,27,101,67,28]))\n",
    "evens"
   ]
  },
  {
   "cell_type": "code",
   "execution_count": 16,
   "metadata": {},
   "outputs": [
    {
     "data": {
      "text/plain": [
       "[90, 56, 28]"
      ]
     },
     "execution_count": 16,
     "metadata": {},
     "output_type": "execute_result"
    }
   ],
   "source": [
    "evens=list(filter(lambda num:num%2==0,[90,87,56,27,101,67,28]))\n",
    "evens"
   ]
  },
  {
   "cell_type": "code",
   "execution_count": 17,
   "metadata": {},
   "outputs": [
    {
     "data": {
      "text/plain": [
       "['u', 'u', 'a', 'o']"
      ]
     },
     "execution_count": 17,
     "metadata": {},
     "output_type": "execute_result"
    }
   ],
   "source": [
    "## anymous function\n",
    "def filter_vowels(ch):\n",
    "    v=('a','e','i','o','u')\n",
    "    if ch in v:\n",
    "        return True\n",
    "    else:\n",
    "        return False\n",
    "\n",
    "vowels=list(filter(filter_vowels,\"Ruthu I am from APSSDC\"))\n",
    "vowels"
   ]
  },
  {
   "cell_type": "code",
   "execution_count": 19,
   "metadata": {},
   "outputs": [
    {
     "data": {
      "text/plain": [
       "['u', 'u', 'a', 'o']"
      ]
     },
     "execution_count": 19,
     "metadata": {},
     "output_type": "execute_result"
    }
   ],
   "source": [
    "vowels=list(map(filter_vowels,\"Ruthu I am from APSSDC\"))\n",
    "vowels"
   ]
  },
  {
   "cell_type": "code",
   "execution_count": 20,
   "metadata": {},
   "outputs": [
    {
     "name": "stdout",
     "output_type": "stream",
     "text": [
      "90 23 87 101 107 63\n",
      "[23, 101, 107]\n"
     ]
    }
   ],
   "source": [
    "def is_prime(n):\n",
    "    count=0\n",
    "    for num in range(1,n+1):\n",
    "        if n%num==0:\n",
    "            count+=1\n",
    "    if count==2:\n",
    "        return True\n",
    "    else:\n",
    "        return False\n",
    "\n",
    "li=list(map(int,input().split())) # space separated values\n",
    "flt_list=list(filter(lambda num:is_prime(num),li))\n",
    "print(flt_list)\n"
   ]
  },
  {
   "cell_type": "markdown",
   "metadata": {},
   "source": [
    "### Source code management using Git&Github\n",
    "- **source code**\n",
    "- entire programming files used in project"
   ]
  },
  {
   "cell_type": "code",
   "execution_count": 21,
   "metadata": {
    "collapsed": true
   },
   "outputs": [
    {
     "ename": "SyntaxError",
     "evalue": "invalid syntax (<ipython-input-21-3fa4eb2b4fca>, line 1)",
     "output_type": "error",
     "traceback": [
      "\u001b[1;36m  File \u001b[1;32m\"<ipython-input-21-3fa4eb2b4fca>\"\u001b[1;36m, line \u001b[1;32m1\u001b[0m\n\u001b[1;33m    manager=3 members\u001b[0m\n\u001b[1;37m                    ^\u001b[0m\n\u001b[1;31mSyntaxError\u001b[0m\u001b[1;31m:\u001b[0m invalid syntax\n"
     ]
    }
   ],
   "source": [
    "manager=3 members\n",
    "server :accessable to perticular member,he only can do the project\n",
    "    time lagging\n",
    "    server limits to perticular time\n",
    "    distributed servers"
   ]
  },
  {
   "cell_type": "code",
   "execution_count": null,
   "metadata": {},
   "outputs": [],
   "source": [
    "local sever:git,local machine\n",
    "global server/remote server:github on the globe"
   ]
  }
 ],
 "metadata": {
  "kernelspec": {
   "display_name": "Python 3",
   "language": "python",
   "name": "python3"
  },
  "language_info": {
   "codemirror_mode": {
    "name": "ipython",
    "version": 3
   },
   "file_extension": ".py",
   "mimetype": "text/x-python",
   "name": "python",
   "nbconvert_exporter": "python",
   "pygments_lexer": "ipython3",
   "version": "3.7.4"
  }
 },
 "nbformat": 4,
 "nbformat_minor": 2
}
