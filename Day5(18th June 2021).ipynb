{
 "cells": [
  {
   "cell_type": "code",
   "execution_count": 5,
   "metadata": {
    "collapsed": true
   },
   "outputs": [
    {
     "name": "stdout",
     "output_type": "stream",
     "text": [
      "first number:5\n",
      "second number:30\n",
      "prime numbers present in the above range:5 7 11 13 17 19 23 29 "
     ]
    }
   ],
   "source": [
    "f,s=int(input(\"first number:\")),int(input(\"second number:\"))\n",
    "# for loop and while loop\n",
    "print(\"prime numbers present in the above range\",end=\":\")\n",
    "for num in range(f,s+1):\n",
    "    factors=0\n",
    "    it=1 # num 1 to f\n",
    "    while it<=num: \n",
    "        if num%it==0: # factor condition\n",
    "            factors+=1\n",
    "        it+=1# user incrementation\n",
    "    if factors==2:\n",
    "        print(num,end=\" \")\n",
    "    \n",
    "    "
   ]
  },
  {
   "cell_type": "code",
   "execution_count": 6,
   "metadata": {
    "collapsed": true
   },
   "outputs": [
    {
     "name": "stdout",
     "output_type": "stream",
     "text": [
      "5 7 11 13 17 19 23 29 "
     ]
    }
   ],
   "source": [
    "while f<=s: # 5<=30-->25 times\n",
    "    count=0 # \n",
    "    for num in range(1,f+1): # a number which has only 2 factors\n",
    "        if f%num==0:\n",
    "            count+=1\n",
    "    if count==2:\n",
    "        print(f,end=\" \")\n",
    "    f+=1"
   ]
  },
  {
   "cell_type": "markdown",
   "metadata": {},
   "source": [
    "## Functions\n",
    "- def function_name(args):\n",
    "    - statements\n",
    "    - return \n",
    "- function_name(parameters)"
   ]
  },
  {
   "cell_type": "code",
   "execution_count": 7,
   "metadata": {},
   "outputs": [
    {
     "data": {
      "text/plain": [
       "12"
      ]
     },
     "execution_count": 7,
     "metadata": {},
     "output_type": "execute_result"
    }
   ],
   "source": [
    "# adding to numbers using functions\n",
    "# python doesn't follow any perticular syntax\n",
    "8+4 # normal"
   ]
  },
  {
   "cell_type": "code",
   "execution_count": 8,
   "metadata": {},
   "outputs": [
    {
     "name": "stdout",
     "output_type": "stream",
     "text": [
      "12\n"
     ]
    }
   ],
   "source": [
    "print(10+2)"
   ]
  },
  {
   "cell_type": "code",
   "execution_count": 9,
   "metadata": {},
   "outputs": [
    {
     "data": {
      "text/plain": [
       "11"
      ]
     },
     "execution_count": 9,
     "metadata": {},
     "output_type": "execute_result"
    }
   ],
   "source": [
    "# using functions\n",
    "# function with argument & with return statement\n",
    "def adding(x,y): # arguments\n",
    "    return x+y # addition operation\n",
    "adding(5,6) # parameters"
   ]
  },
  {
   "cell_type": "code",
   "execution_count": 11,
   "metadata": {},
   "outputs": [
    {
     "data": {
      "text/plain": [
       "'hihello'"
      ]
     },
     "execution_count": 11,
     "metadata": {},
     "output_type": "execute_result"
    }
   ],
   "source": [
    "adding(\"hi\",'hello') # concatenation,"
   ]
  },
  {
   "cell_type": "code",
   "execution_count": 19,
   "metadata": {},
   "outputs": [
    {
     "name": "stdout",
     "output_type": "stream",
     "text": [
      "product of x and y is 45\n",
      "None\n",
      "first number:9\n",
      "product of x and y is 81\n"
     ]
    }
   ],
   "source": [
    "# you cannot 2 subtract strings\n",
    "# your firstname from your last name\n",
    "# function with args & without return \n",
    "def multiply(x,y): # args\n",
    "    print(\"product of x and y is\",x*y)\n",
    "    \n",
    "print(multiply(9,5)) # calling function\n",
    "multiply(int(input(\"first number:\")),9)"
   ]
  },
  {
   "cell_type": "code",
   "execution_count": 13,
   "metadata": {},
   "outputs": [
    {
     "name": "stdout",
     "output_type": "stream",
     "text": [
      "product of x and y is ruthuruthuruthuruthuruthu\n"
     ]
    }
   ],
   "source": [
    "multiply(\"ruthu\",5) # 5 times concatenation "
   ]
  },
  {
   "cell_type": "code",
   "execution_count": 15,
   "metadata": {},
   "outputs": [
    {
     "name": "stdout",
     "output_type": "stream",
     "text": [
      "10\n",
      "4\n"
     ]
    },
    {
     "data": {
      "text/plain": [
       "10000"
      ]
     },
     "execution_count": 15,
     "metadata": {},
     "output_type": "execute_result"
    }
   ],
   "source": [
    "# function without args and with return statement\n",
    "a,b=int(input()),int(input()) # dynamic variable,global\n",
    "def power():\n",
    "    return a**b\n",
    "power()"
   ]
  },
  {
   "cell_type": "code",
   "execution_count": 16,
   "metadata": {
    "collapsed": true
   },
   "outputs": [
    {
     "name": "stdout",
     "output_type": "stream",
     "text": [
      "hi\n",
      "hello\n"
     ]
    },
    {
     "ename": "TypeError",
     "evalue": "unsupported operand type(s) for ** or pow(): 'str' and 'str'",
     "output_type": "error",
     "traceback": [
      "\u001b[1;31m---------------------------------------------------------------------------\u001b[0m",
      "\u001b[1;31mTypeError\u001b[0m                                 Traceback (most recent call last)",
      "\u001b[1;32m<ipython-input-16-bc0ab4c903df>\u001b[0m in \u001b[0;36m<module>\u001b[1;34m\u001b[0m\n\u001b[0;32m      2\u001b[0m \u001b[1;32mdef\u001b[0m \u001b[0mpower2\u001b[0m\u001b[1;33m(\u001b[0m\u001b[1;33m)\u001b[0m\u001b[1;33m:\u001b[0m\u001b[1;33m\u001b[0m\u001b[1;33m\u001b[0m\u001b[0m\n\u001b[0;32m      3\u001b[0m     \u001b[0mprint\u001b[0m\u001b[1;33m(\u001b[0m\u001b[0mst\u001b[0m\u001b[1;33m**\u001b[0m\u001b[0mst2\u001b[0m\u001b[1;33m)\u001b[0m\u001b[1;33m\u001b[0m\u001b[1;33m\u001b[0m\u001b[0m\n\u001b[1;32m----> 4\u001b[1;33m \u001b[0mpower2\u001b[0m\u001b[1;33m(\u001b[0m\u001b[1;33m)\u001b[0m\u001b[1;33m\u001b[0m\u001b[1;33m\u001b[0m\u001b[0m\n\u001b[0m",
      "\u001b[1;32m<ipython-input-16-bc0ab4c903df>\u001b[0m in \u001b[0;36mpower2\u001b[1;34m()\u001b[0m\n\u001b[0;32m      1\u001b[0m \u001b[0mst\u001b[0m\u001b[1;33m,\u001b[0m\u001b[0mst2\u001b[0m\u001b[1;33m=\u001b[0m\u001b[0minput\u001b[0m\u001b[1;33m(\u001b[0m\u001b[1;33m)\u001b[0m\u001b[1;33m,\u001b[0m\u001b[0minput\u001b[0m\u001b[1;33m(\u001b[0m\u001b[1;33m)\u001b[0m\u001b[1;33m\u001b[0m\u001b[1;33m\u001b[0m\u001b[0m\n\u001b[0;32m      2\u001b[0m \u001b[1;32mdef\u001b[0m \u001b[0mpower2\u001b[0m\u001b[1;33m(\u001b[0m\u001b[1;33m)\u001b[0m\u001b[1;33m:\u001b[0m\u001b[1;33m\u001b[0m\u001b[1;33m\u001b[0m\u001b[0m\n\u001b[1;32m----> 3\u001b[1;33m     \u001b[0mprint\u001b[0m\u001b[1;33m(\u001b[0m\u001b[0mst\u001b[0m\u001b[1;33m**\u001b[0m\u001b[0mst2\u001b[0m\u001b[1;33m)\u001b[0m\u001b[1;33m\u001b[0m\u001b[1;33m\u001b[0m\u001b[0m\n\u001b[0m\u001b[0;32m      4\u001b[0m \u001b[0mpower2\u001b[0m\u001b[1;33m(\u001b[0m\u001b[1;33m)\u001b[0m\u001b[1;33m\u001b[0m\u001b[1;33m\u001b[0m\u001b[0m\n",
      "\u001b[1;31mTypeError\u001b[0m: unsupported operand type(s) for ** or pow(): 'str' and 'str'"
     ]
    }
   ],
   "source": [
    "st,st2=input(),input()\n",
    "def power2():\n",
    "    print(st**st2) # arithmetic operator \n",
    "power2()"
   ]
  },
  {
   "cell_type": "code",
   "execution_count": 17,
   "metadata": {
    "collapsed": true
   },
   "outputs": [
    {
     "name": "stdout",
     "output_type": "stream",
     "text": [
      "0\n",
      "45\n",
      "sum is 45\n"
     ]
    }
   ],
   "source": [
    "# fun without args and without return\n",
    "def add2():\n",
    "    x,y=int(input()),int(input())\n",
    "    print(\"sum is\",x+y)\n",
    "    \n",
    "add2()"
   ]
  },
  {
   "cell_type": "code",
   "execution_count": 21,
   "metadata": {
    "collapsed": true
   },
   "outputs": [
    {
     "name": "stdout",
     "output_type": "stream",
     "text": [
      "first number:90\n",
      "second number:13\n"
     ]
    },
    {
     "data": {
      "text/plain": [
       "1170"
      ]
     },
     "execution_count": 21,
     "metadata": {},
     "output_type": "execute_result"
    }
   ],
   "source": [
    "def function(f,s):\n",
    "    f=int(input(\"first number:\"))\n",
    "    s=int(input(\"second number:\"))\n",
    "    return f*s\n",
    "\n",
    "\n",
    "function(8,9) # overwrite"
   ]
  },
  {
   "cell_type": "code",
   "execution_count": 26,
   "metadata": {
    "collapsed": true
   },
   "outputs": [
    {
     "ename": "SyntaxError",
     "evalue": "non-default argument follows default argument (<ipython-input-26-fa756a485350>, line 1)",
     "output_type": "error",
     "traceback": [
      "\u001b[1;36m  File \u001b[1;32m\"<ipython-input-26-fa756a485350>\"\u001b[1;36m, line \u001b[1;32m1\u001b[0m\n\u001b[1;33m    def example(a=90,b):\u001b[0m\n\u001b[1;37m               ^\u001b[0m\n\u001b[1;31mSyntaxError\u001b[0m\u001b[1;31m:\u001b[0m non-default argument follows default argument\n"
     ]
    }
   ],
   "source": [
    "def example(a=90,b):\n",
    "    return a*b\n",
    "\n",
    "example(9,8) # default arguments"
   ]
  },
  {
   "cell_type": "code",
   "execution_count": 27,
   "metadata": {
    "collapsed": true
   },
   "outputs": [
    {
     "data": {
      "text/plain": [
       "80"
      ]
     },
     "execution_count": 27,
     "metadata": {},
     "output_type": "execute_result"
    }
   ],
   "source": [
    "def example(a,b=10): # default,non-default argument\n",
    "    return a*b\n",
    "\n",
    "example(8) # default arguments"
   ]
  },
  {
   "cell_type": "code",
   "execution_count": 33,
   "metadata": {},
   "outputs": [
    {
     "name": "stdout",
     "output_type": "stream",
     "text": [
      "5\n",
      "factorial of n is 120\n"
     ]
    }
   ],
   "source": [
    "# write a function to print the factorial of a given number \n",
    "# factorial of number n:n*n-1*n-2*n-3...n-(n-1)\n",
    "#5:5*4*3*2*1==5-4==n-(n-1)\n",
    "n=int(input())\n",
    "fact=1\n",
    "for num in range(n,1,-1):\n",
    "    fact*=num\n",
    "print(\"factorial of n is\",fact)"
   ]
  },
  {
   "cell_type": "code",
   "execution_count": 36,
   "metadata": {
    "collapsed": true
   },
   "outputs": [
    {
     "name": "stdout",
     "output_type": "stream",
     "text": [
      "6\n"
     ]
    },
    {
     "data": {
      "text/plain": [
       "720"
      ]
     },
     "execution_count": 36,
     "metadata": {},
     "output_type": "execute_result"
    }
   ],
   "source": [
    "# using functions\n",
    "f=int(input())\n",
    "fact=1\n",
    "for num in range(1,f+1):\n",
    "    fact*=num\n",
    "fact"
   ]
  },
  {
   "cell_type": "code",
   "execution_count": 39,
   "metadata": {},
   "outputs": [
    {
     "data": {
      "text/plain": [
       "120"
      ]
     },
     "execution_count": 39,
     "metadata": {},
     "output_type": "execute_result"
    }
   ],
   "source": [
    "def factorial(n):\n",
    "    if n==0 or n==1:\n",
    "        return 1\n",
    "    else:\n",
    "        fact=1\n",
    "        for num in range(1,n+1):\n",
    "            fact*=num\n",
    "    return fact\n",
    "\n",
    "factorial(5)"
   ]
  },
  {
   "cell_type": "code",
   "execution_count": 38,
   "metadata": {},
   "outputs": [
    {
     "data": {
      "text/plain": [
       "1"
      ]
     },
     "execution_count": 38,
     "metadata": {},
     "output_type": "execute_result"
    }
   ],
   "source": [
    "factorial(1)"
   ]
  },
  {
   "cell_type": "code",
   "execution_count": 40,
   "metadata": {},
   "outputs": [],
   "source": [
    "#5:5*4*3*2*1=120\n",
    "# 1*2*3*4*5*=150\n",
    "#a*b=b*a"
   ]
  },
  {
   "cell_type": "markdown",
   "metadata": {},
   "source": [
    "### Difference between return and print statement\n",
    "- return will return values to the interpreter/processor\n",
    "- print statement will display the output to the programmer/user"
   ]
  },
  {
   "cell_type": "code",
   "execution_count": 41,
   "metadata": {},
   "outputs": [],
   "source": [
    "# print the perfect numbers present within a range\n",
    "# perfect:the sum of factors of a given number is equal to the number itself\n",
    "#6:1 2 3=1+2+3=6,6 is a perfect number\n",
    "# 1 to 1000:\n",
    "#28:1,2,4,7,14=1+2+4+7+14=28"
   ]
  },
  {
   "cell_type": "code",
   "execution_count": 43,
   "metadata": {},
   "outputs": [
    {
     "data": {
      "text/plain": [
       "True"
      ]
     },
     "execution_count": 43,
     "metadata": {},
     "output_type": "execute_result"
    }
   ],
   "source": [
    "def is_perfect(n):\n",
    "    s=0\n",
    "    for num in range(1,n//2+1):\n",
    "        if n%num==0:\n",
    "            s+=num\n",
    "    if s==n:\n",
    "        return True\n",
    "    else:return False\n",
    "    \n",
    "is_perfect(6)\n",
    "        "
   ]
  },
  {
   "cell_type": "code",
   "execution_count": 44,
   "metadata": {},
   "outputs": [
    {
     "data": {
      "text/plain": [
       "5.0"
      ]
     },
     "execution_count": 44,
     "metadata": {},
     "output_type": "execute_result"
    }
   ],
   "source": [
    "10/2 # float division"
   ]
  },
  {
   "cell_type": "code",
   "execution_count": 45,
   "metadata": {},
   "outputs": [
    {
     "data": {
      "text/plain": [
       "5"
      ]
     },
     "execution_count": 45,
     "metadata": {},
     "output_type": "execute_result"
    }
   ],
   "source": [
    "10//2 # integer division"
   ]
  },
  {
   "cell_type": "code",
   "execution_count": 46,
   "metadata": {},
   "outputs": [
    {
     "data": {
      "text/plain": [
       "False"
      ]
     },
     "execution_count": 46,
     "metadata": {},
     "output_type": "execute_result"
    }
   ],
   "source": [
    "is_perfect(100)"
   ]
  },
  {
   "cell_type": "code",
   "execution_count": 47,
   "metadata": {},
   "outputs": [
    {
     "name": "stdout",
     "output_type": "stream",
     "text": [
      "6 28 496 "
     ]
    }
   ],
   "source": [
    "for num in range(1,1000):\n",
    "    if is_perfect(num): # range of values\n",
    "        print(num,end=\" \")"
   ]
  },
  {
   "cell_type": "code",
   "execution_count": 54,
   "metadata": {
    "collapsed": true
   },
   "outputs": [
    {
     "name": "stdout",
     "output_type": "stream",
     "text": [
      "not perfect\n",
      "not perfect\n",
      "not perfect\n",
      "not perfect\n",
      "not perfect\n",
      "perfect number\n",
      "not perfect\n",
      "not perfect\n",
      "not perfect\n",
      "not perfect\n",
      "not perfect\n",
      "not perfect\n",
      "not perfect\n",
      "not perfect\n",
      "not perfect\n",
      "not perfect\n",
      "not perfect\n",
      "not perfect\n",
      "not perfect\n",
      "not perfect\n",
      "not perfect\n",
      "not perfect\n",
      "not perfect\n",
      "not perfect\n",
      "not perfect\n",
      "not perfect\n",
      "not perfect\n",
      "perfect number\n",
      "not perfect\n",
      "not perfect\n",
      "not perfect\n",
      "not perfect\n",
      "not perfect\n",
      "not perfect\n",
      "not perfect\n",
      "not perfect\n",
      "not perfect\n",
      "not perfect\n",
      "not perfect\n",
      "not perfect\n",
      "not perfect\n",
      "not perfect\n",
      "not perfect\n",
      "not perfect\n",
      "not perfect\n",
      "not perfect\n",
      "not perfect\n",
      "not perfect\n",
      "not perfect\n",
      "not perfect\n",
      "not perfect\n",
      "not perfect\n",
      "not perfect\n",
      "not perfect\n",
      "not perfect\n",
      "not perfect\n",
      "not perfect\n",
      "not perfect\n",
      "not perfect\n",
      "not perfect\n",
      "not perfect\n",
      "not perfect\n",
      "not perfect\n",
      "not perfect\n",
      "not perfect\n",
      "not perfect\n",
      "not perfect\n",
      "not perfect\n",
      "not perfect\n",
      "not perfect\n",
      "not perfect\n",
      "not perfect\n",
      "not perfect\n",
      "not perfect\n",
      "not perfect\n",
      "not perfect\n",
      "not perfect\n",
      "not perfect\n",
      "not perfect\n",
      "not perfect\n",
      "not perfect\n",
      "not perfect\n",
      "not perfect\n",
      "not perfect\n",
      "not perfect\n",
      "not perfect\n",
      "not perfect\n",
      "not perfect\n",
      "not perfect\n",
      "not perfect\n",
      "not perfect\n",
      "not perfect\n",
      "not perfect\n",
      "not perfect\n",
      "not perfect\n",
      "not perfect\n",
      "not perfect\n",
      "not perfect\n",
      "not perfect\n",
      "not perfect\n",
      "not perfect\n",
      "not perfect\n",
      "not perfect\n",
      "not perfect\n",
      "not perfect\n",
      "not perfect\n",
      "not perfect\n",
      "not perfect\n",
      "not perfect\n",
      "not perfect\n",
      "not perfect\n",
      "not perfect\n",
      "not perfect\n",
      "not perfect\n",
      "not perfect\n",
      "not perfect\n",
      "not perfect\n",
      "not perfect\n",
      "not perfect\n",
      "not perfect\n",
      "not perfect\n",
      "not perfect\n",
      "not perfect\n",
      "not perfect\n",
      "not perfect\n",
      "not perfect\n",
      "not perfect\n",
      "not perfect\n",
      "not perfect\n",
      "not perfect\n",
      "not perfect\n",
      "not perfect\n",
      "not perfect\n",
      "not perfect\n",
      "not perfect\n",
      "not perfect\n",
      "not perfect\n",
      "not perfect\n",
      "not perfect\n",
      "not perfect\n",
      "not perfect\n",
      "not perfect\n",
      "not perfect\n",
      "not perfect\n",
      "not perfect\n",
      "not perfect\n",
      "not perfect\n",
      "not perfect\n",
      "not perfect\n",
      "not perfect\n",
      "not perfect\n",
      "not perfect\n",
      "not perfect\n",
      "not perfect\n",
      "not perfect\n",
      "not perfect\n",
      "not perfect\n",
      "not perfect\n",
      "not perfect\n",
      "not perfect\n",
      "not perfect\n",
      "not perfect\n",
      "not perfect\n",
      "not perfect\n",
      "not perfect\n",
      "not perfect\n",
      "not perfect\n",
      "not perfect\n",
      "not perfect\n",
      "not perfect\n",
      "not perfect\n",
      "not perfect\n",
      "not perfect\n",
      "not perfect\n",
      "not perfect\n",
      "not perfect\n",
      "not perfect\n",
      "not perfect\n",
      "not perfect\n",
      "not perfect\n",
      "not perfect\n",
      "not perfect\n",
      "not perfect\n",
      "not perfect\n",
      "not perfect\n",
      "not perfect\n",
      "not perfect\n",
      "not perfect\n",
      "not perfect\n",
      "not perfect\n",
      "not perfect\n",
      "not perfect\n",
      "not perfect\n",
      "not perfect\n",
      "not perfect\n",
      "not perfect\n",
      "not perfect\n",
      "not perfect\n",
      "not perfect\n",
      "not perfect\n",
      "not perfect\n",
      "not perfect\n",
      "not perfect\n",
      "not perfect\n",
      "not perfect\n",
      "not perfect\n",
      "not perfect\n",
      "not perfect\n",
      "not perfect\n",
      "not perfect\n",
      "not perfect\n",
      "not perfect\n",
      "not perfect\n",
      "not perfect\n",
      "not perfect\n",
      "not perfect\n",
      "not perfect\n",
      "not perfect\n",
      "not perfect\n",
      "not perfect\n",
      "not perfect\n",
      "not perfect\n",
      "not perfect\n",
      "not perfect\n",
      "not perfect\n",
      "not perfect\n",
      "not perfect\n",
      "not perfect\n",
      "not perfect\n",
      "not perfect\n",
      "not perfect\n",
      "not perfect\n",
      "not perfect\n",
      "not perfect\n",
      "not perfect\n",
      "not perfect\n",
      "not perfect\n",
      "not perfect\n",
      "not perfect\n",
      "not perfect\n",
      "not perfect\n",
      "not perfect\n",
      "not perfect\n",
      "not perfect\n",
      "not perfect\n",
      "not perfect\n",
      "not perfect\n",
      "not perfect\n",
      "not perfect\n",
      "not perfect\n",
      "not perfect\n",
      "not perfect\n",
      "not perfect\n",
      "not perfect\n",
      "not perfect\n",
      "not perfect\n",
      "not perfect\n",
      "not perfect\n",
      "not perfect\n",
      "not perfect\n",
      "not perfect\n",
      "not perfect\n",
      "not perfect\n",
      "not perfect\n",
      "not perfect\n",
      "not perfect\n",
      "not perfect\n",
      "not perfect\n",
      "not perfect\n",
      "not perfect\n",
      "not perfect\n",
      "not perfect\n",
      "not perfect\n",
      "not perfect\n",
      "not perfect\n",
      "not perfect\n",
      "not perfect\n",
      "not perfect\n",
      "not perfect\n",
      "not perfect\n",
      "not perfect\n",
      "not perfect\n",
      "not perfect\n",
      "not perfect\n",
      "not perfect\n",
      "not perfect\n",
      "not perfect\n",
      "not perfect\n",
      "not perfect\n",
      "not perfect\n",
      "not perfect\n",
      "not perfect\n",
      "not perfect\n",
      "not perfect\n",
      "not perfect\n",
      "not perfect\n",
      "not perfect\n",
      "not perfect\n",
      "not perfect\n",
      "not perfect\n",
      "not perfect\n",
      "not perfect\n",
      "not perfect\n",
      "not perfect\n",
      "not perfect\n",
      "not perfect\n",
      "not perfect\n",
      "not perfect\n",
      "not perfect\n",
      "not perfect\n",
      "not perfect\n",
      "not perfect\n",
      "not perfect\n",
      "not perfect\n",
      "not perfect\n",
      "not perfect\n",
      "not perfect\n",
      "not perfect\n",
      "not perfect\n",
      "not perfect\n",
      "not perfect\n",
      "not perfect\n",
      "not perfect\n",
      "not perfect\n",
      "not perfect\n",
      "not perfect\n",
      "not perfect\n",
      "not perfect\n",
      "not perfect\n",
      "not perfect\n",
      "not perfect\n",
      "not perfect\n",
      "not perfect\n",
      "not perfect\n",
      "not perfect\n",
      "not perfect\n",
      "not perfect\n",
      "not perfect\n",
      "not perfect\n",
      "not perfect\n",
      "not perfect\n",
      "not perfect\n",
      "not perfect\n",
      "not perfect\n",
      "not perfect\n",
      "not perfect\n",
      "not perfect\n",
      "not perfect\n",
      "not perfect\n",
      "not perfect\n",
      "not perfect\n",
      "not perfect\n",
      "not perfect\n",
      "not perfect\n",
      "not perfect\n",
      "not perfect\n",
      "not perfect\n",
      "not perfect\n",
      "not perfect\n",
      "not perfect\n",
      "not perfect\n",
      "not perfect\n",
      "not perfect\n",
      "not perfect\n",
      "not perfect\n",
      "not perfect\n",
      "not perfect\n",
      "not perfect\n",
      "not perfect\n",
      "not perfect\n",
      "not perfect\n",
      "not perfect\n",
      "not perfect\n",
      "not perfect\n",
      "not perfect\n",
      "not perfect\n",
      "not perfect\n",
      "not perfect\n",
      "not perfect\n",
      "not perfect\n",
      "not perfect\n",
      "not perfect\n",
      "not perfect\n",
      "not perfect\n",
      "not perfect\n",
      "not perfect\n",
      "not perfect\n",
      "not perfect\n",
      "not perfect\n",
      "not perfect\n",
      "not perfect\n",
      "not perfect\n",
      "not perfect\n",
      "not perfect\n",
      "not perfect\n",
      "not perfect\n",
      "not perfect\n",
      "not perfect\n",
      "not perfect\n",
      "not perfect\n",
      "not perfect\n",
      "not perfect\n",
      "not perfect\n",
      "not perfect\n",
      "not perfect\n",
      "not perfect\n",
      "not perfect\n",
      "not perfect\n",
      "not perfect\n",
      "not perfect\n",
      "not perfect\n",
      "not perfect\n",
      "not perfect\n",
      "not perfect\n",
      "not perfect\n",
      "not perfect\n",
      "not perfect\n",
      "not perfect\n",
      "not perfect\n",
      "not perfect\n",
      "not perfect\n",
      "not perfect\n",
      "not perfect\n",
      "not perfect\n",
      "not perfect\n",
      "not perfect\n",
      "not perfect\n",
      "not perfect\n",
      "not perfect\n",
      "not perfect\n",
      "not perfect\n",
      "not perfect\n",
      "not perfect\n",
      "not perfect\n",
      "not perfect\n",
      "not perfect\n",
      "not perfect\n",
      "not perfect\n",
      "not perfect\n",
      "not perfect\n",
      "not perfect\n",
      "not perfect\n",
      "not perfect\n",
      "not perfect\n",
      "not perfect\n",
      "not perfect\n",
      "not perfect\n",
      "not perfect\n",
      "not perfect\n",
      "not perfect\n",
      "not perfect\n",
      "not perfect\n",
      "not perfect\n",
      "not perfect\n",
      "not perfect\n",
      "not perfect\n",
      "not perfect\n",
      "not perfect\n",
      "not perfect\n",
      "not perfect\n",
      "not perfect\n",
      "not perfect\n",
      "not perfect\n",
      "not perfect\n",
      "not perfect\n",
      "not perfect\n",
      "not perfect\n",
      "not perfect\n",
      "not perfect\n",
      "not perfect\n",
      "not perfect\n",
      "not perfect\n",
      "not perfect\n",
      "not perfect\n",
      "not perfect\n",
      "not perfect\n",
      "not perfect\n",
      "not perfect\n",
      "not perfect\n",
      "not perfect\n",
      "not perfect\n",
      "not perfect\n",
      "not perfect\n",
      "not perfect\n",
      "not perfect\n",
      "not perfect\n",
      "not perfect\n",
      "not perfect\n",
      "not perfect\n",
      "not perfect\n",
      "not perfect\n",
      "not perfect\n",
      "not perfect\n",
      "not perfect\n",
      "not perfect\n",
      "perfect number\n",
      "not perfect\n",
      "not perfect\n",
      "not perfect\n",
      "not perfect\n",
      "not perfect\n",
      "not perfect\n",
      "not perfect\n",
      "not perfect\n",
      "not perfect\n",
      "not perfect\n",
      "not perfect\n",
      "not perfect\n",
      "not perfect\n",
      "not perfect\n",
      "not perfect\n",
      "not perfect\n",
      "not perfect\n",
      "not perfect\n",
      "not perfect\n",
      "not perfect\n",
      "not perfect\n",
      "not perfect\n",
      "not perfect\n",
      "not perfect\n",
      "not perfect\n",
      "not perfect\n",
      "not perfect\n",
      "not perfect\n",
      "not perfect\n",
      "not perfect\n",
      "not perfect\n",
      "not perfect\n",
      "not perfect\n",
      "not perfect\n",
      "not perfect\n",
      "not perfect\n",
      "not perfect\n",
      "not perfect\n",
      "not perfect\n",
      "not perfect\n",
      "not perfect\n",
      "not perfect\n",
      "not perfect\n",
      "not perfect\n",
      "not perfect\n",
      "not perfect\n",
      "not perfect\n",
      "not perfect\n",
      "not perfect\n",
      "not perfect\n",
      "not perfect\n",
      "not perfect\n",
      "not perfect\n",
      "not perfect\n",
      "not perfect\n",
      "not perfect\n",
      "not perfect\n",
      "not perfect\n",
      "not perfect\n",
      "not perfect\n",
      "not perfect\n",
      "not perfect\n",
      "not perfect\n",
      "not perfect\n",
      "not perfect\n",
      "not perfect\n",
      "not perfect\n",
      "not perfect\n",
      "not perfect\n",
      "not perfect\n",
      "not perfect\n",
      "not perfect\n",
      "not perfect\n",
      "not perfect\n",
      "not perfect\n",
      "not perfect\n",
      "not perfect\n",
      "not perfect\n",
      "not perfect\n",
      "not perfect\n",
      "not perfect\n",
      "not perfect\n",
      "not perfect\n",
      "not perfect\n",
      "not perfect\n",
      "not perfect\n",
      "not perfect\n",
      "not perfect\n",
      "not perfect\n",
      "not perfect\n",
      "not perfect\n",
      "not perfect\n",
      "not perfect\n",
      "not perfect\n",
      "not perfect\n",
      "not perfect\n",
      "not perfect\n",
      "not perfect\n",
      "not perfect\n",
      "not perfect\n",
      "not perfect\n",
      "not perfect\n",
      "not perfect\n",
      "not perfect\n",
      "not perfect\n",
      "not perfect\n",
      "not perfect\n",
      "not perfect\n",
      "not perfect\n",
      "not perfect\n",
      "not perfect\n",
      "not perfect\n",
      "not perfect\n",
      "not perfect\n",
      "not perfect\n",
      "not perfect\n",
      "not perfect\n",
      "not perfect\n",
      "not perfect\n",
      "not perfect\n",
      "not perfect\n",
      "not perfect\n",
      "not perfect\n",
      "not perfect\n",
      "not perfect\n",
      "not perfect\n",
      "not perfect\n",
      "not perfect\n",
      "not perfect\n",
      "not perfect\n",
      "not perfect\n",
      "not perfect\n",
      "not perfect\n",
      "not perfect\n",
      "not perfect\n",
      "not perfect\n",
      "not perfect\n",
      "not perfect\n",
      "not perfect\n",
      "not perfect\n",
      "not perfect\n",
      "not perfect\n",
      "not perfect\n",
      "not perfect\n",
      "not perfect\n",
      "not perfect\n",
      "not perfect\n",
      "not perfect\n",
      "not perfect\n",
      "not perfect\n",
      "not perfect\n",
      "not perfect\n",
      "not perfect\n",
      "not perfect\n",
      "not perfect\n",
      "not perfect\n",
      "not perfect\n",
      "not perfect\n",
      "not perfect\n",
      "not perfect\n",
      "not perfect\n",
      "not perfect\n",
      "not perfect\n",
      "not perfect\n",
      "not perfect\n",
      "not perfect\n",
      "not perfect\n",
      "not perfect\n",
      "not perfect\n",
      "not perfect\n",
      "not perfect\n",
      "not perfect\n",
      "not perfect\n",
      "not perfect\n",
      "not perfect\n",
      "not perfect\n",
      "not perfect\n",
      "not perfect\n",
      "not perfect\n",
      "not perfect\n",
      "not perfect\n",
      "not perfect\n",
      "not perfect\n",
      "not perfect\n",
      "not perfect\n",
      "not perfect\n",
      "not perfect\n",
      "not perfect\n",
      "not perfect\n",
      "not perfect\n",
      "not perfect\n",
      "not perfect\n",
      "not perfect\n",
      "not perfect\n",
      "not perfect\n",
      "not perfect\n",
      "not perfect\n",
      "not perfect\n",
      "not perfect\n",
      "not perfect\n",
      "not perfect\n",
      "not perfect\n",
      "not perfect\n",
      "not perfect\n",
      "not perfect\n",
      "not perfect\n",
      "not perfect\n",
      "not perfect\n",
      "not perfect\n",
      "not perfect\n",
      "not perfect\n",
      "not perfect\n",
      "not perfect\n",
      "not perfect\n",
      "not perfect\n",
      "not perfect\n",
      "not perfect\n",
      "not perfect\n",
      "not perfect\n",
      "not perfect\n",
      "not perfect\n",
      "not perfect\n",
      "not perfect\n",
      "not perfect\n",
      "not perfect\n",
      "not perfect\n",
      "not perfect\n",
      "not perfect\n",
      "not perfect\n",
      "not perfect\n",
      "not perfect\n",
      "not perfect\n",
      "not perfect\n",
      "not perfect\n",
      "not perfect\n",
      "not perfect\n",
      "not perfect\n",
      "not perfect\n",
      "not perfect\n",
      "not perfect\n",
      "not perfect\n",
      "not perfect\n",
      "not perfect\n",
      "not perfect\n",
      "not perfect\n",
      "not perfect\n",
      "not perfect\n",
      "not perfect\n",
      "not perfect\n",
      "not perfect\n",
      "not perfect\n",
      "not perfect\n",
      "not perfect\n",
      "not perfect\n",
      "not perfect\n",
      "not perfect\n",
      "not perfect\n",
      "not perfect\n",
      "not perfect\n",
      "not perfect\n",
      "not perfect\n",
      "not perfect\n",
      "not perfect\n",
      "not perfect\n",
      "not perfect\n",
      "not perfect\n",
      "not perfect\n",
      "not perfect\n",
      "not perfect\n",
      "not perfect\n",
      "not perfect\n",
      "not perfect\n",
      "not perfect\n",
      "not perfect\n",
      "not perfect\n",
      "not perfect\n",
      "not perfect\n",
      "not perfect\n",
      "not perfect\n",
      "not perfect\n",
      "not perfect\n",
      "not perfect\n",
      "not perfect\n",
      "not perfect\n",
      "not perfect\n",
      "not perfect\n",
      "not perfect\n",
      "not perfect\n",
      "not perfect\n",
      "not perfect\n",
      "not perfect\n",
      "not perfect\n",
      "not perfect\n",
      "not perfect\n",
      "not perfect\n",
      "not perfect\n",
      "not perfect\n",
      "not perfect\n",
      "not perfect\n",
      "not perfect\n",
      "not perfect\n",
      "not perfect\n",
      "not perfect\n",
      "not perfect\n",
      "not perfect\n",
      "not perfect\n",
      "not perfect\n",
      "not perfect\n",
      "not perfect\n",
      "not perfect\n",
      "not perfect\n",
      "not perfect\n",
      "not perfect\n",
      "not perfect\n",
      "not perfect\n",
      "not perfect\n",
      "not perfect\n",
      "not perfect\n",
      "not perfect\n",
      "not perfect\n",
      "not perfect\n",
      "not perfect\n",
      "not perfect\n",
      "not perfect\n",
      "not perfect\n",
      "not perfect\n",
      "not perfect\n",
      "not perfect\n",
      "not perfect\n",
      "not perfect\n",
      "not perfect\n",
      "not perfect\n",
      "not perfect\n",
      "not perfect\n",
      "not perfect\n",
      "not perfect\n",
      "not perfect\n",
      "not perfect\n",
      "not perfect\n",
      "not perfect\n",
      "not perfect\n",
      "not perfect\n",
      "not perfect\n",
      "not perfect\n",
      "not perfect\n",
      "not perfect\n",
      "not perfect\n",
      "not perfect\n",
      "not perfect\n",
      "not perfect\n",
      "not perfect\n",
      "not perfect\n",
      "not perfect\n",
      "not perfect\n",
      "not perfect\n",
      "not perfect\n",
      "not perfect\n",
      "not perfect\n",
      "not perfect\n",
      "not perfect\n",
      "not perfect\n",
      "not perfect\n",
      "not perfect\n",
      "not perfect\n",
      "not perfect\n",
      "not perfect\n",
      "not perfect\n",
      "not perfect\n",
      "not perfect\n",
      "not perfect\n",
      "not perfect\n",
      "not perfect\n",
      "not perfect\n",
      "not perfect\n",
      "not perfect\n",
      "not perfect\n",
      "not perfect\n",
      "not perfect\n",
      "not perfect\n"
     ]
    },
    {
     "name": "stdout",
     "output_type": "stream",
     "text": [
      "not perfect\n",
      "not perfect\n",
      "not perfect\n",
      "not perfect\n",
      "not perfect\n",
      "not perfect\n",
      "not perfect\n",
      "not perfect\n",
      "not perfect\n",
      "not perfect\n",
      "not perfect\n",
      "not perfect\n",
      "not perfect\n",
      "not perfect\n",
      "not perfect\n",
      "not perfect\n",
      "not perfect\n",
      "not perfect\n",
      "not perfect\n",
      "not perfect\n",
      "not perfect\n",
      "not perfect\n",
      "not perfect\n",
      "not perfect\n",
      "not perfect\n",
      "not perfect\n",
      "not perfect\n",
      "not perfect\n",
      "not perfect\n",
      "not perfect\n",
      "not perfect\n",
      "not perfect\n",
      "not perfect\n",
      "not perfect\n",
      "not perfect\n",
      "not perfect\n",
      "not perfect\n",
      "not perfect\n",
      "not perfect\n",
      "not perfect\n",
      "not perfect\n",
      "not perfect\n",
      "not perfect\n",
      "not perfect\n",
      "not perfect\n",
      "not perfect\n",
      "not perfect\n",
      "not perfect\n",
      "not perfect\n",
      "not perfect\n",
      "not perfect\n",
      "not perfect\n",
      "not perfect\n",
      "not perfect\n",
      "not perfect\n",
      "not perfect\n",
      "not perfect\n",
      "not perfect\n",
      "not perfect\n",
      "not perfect\n",
      "not perfect\n",
      "not perfect\n",
      "not perfect\n",
      "not perfect\n",
      "not perfect\n",
      "not perfect\n",
      "not perfect\n",
      "not perfect\n",
      "not perfect\n",
      "not perfect\n",
      "not perfect\n",
      "not perfect\n",
      "not perfect\n",
      "not perfect\n",
      "not perfect\n",
      "not perfect\n",
      "not perfect\n",
      "not perfect\n",
      "not perfect\n",
      "not perfect\n",
      "not perfect\n",
      "not perfect\n",
      "not perfect\n",
      "not perfect\n",
      "not perfect\n",
      "not perfect\n",
      "not perfect\n",
      "not perfect\n",
      "not perfect\n",
      "not perfect\n",
      "not perfect\n",
      "not perfect\n",
      "not perfect\n",
      "not perfect\n",
      "not perfect\n",
      "not perfect\n",
      "not perfect\n",
      "not perfect\n",
      "not perfect\n",
      "not perfect\n",
      "not perfect\n",
      "not perfect\n",
      "not perfect\n",
      "not perfect\n",
      "not perfect\n",
      "not perfect\n",
      "not perfect\n",
      "not perfect\n",
      "not perfect\n",
      "not perfect\n",
      "not perfect\n",
      "not perfect\n",
      "not perfect\n",
      "not perfect\n",
      "not perfect\n",
      "not perfect\n",
      "not perfect\n",
      "not perfect\n",
      "not perfect\n",
      "not perfect\n",
      "not perfect\n",
      "not perfect\n",
      "not perfect\n",
      "not perfect\n",
      "not perfect\n"
     ]
    }
   ],
   "source": [
    "def is_perfect2(n):\n",
    "    s=0\n",
    "    for num in range(1,n//2+1):\n",
    "        if n%num==0:\n",
    "            s+=num\n",
    "    if s==n:\n",
    "        print(\"perfect number\")\n",
    "    else:print(\"not perfect\")\n",
    "    \n",
    "#is_perfect2(6)\n",
    "\n",
    "def perfect_range(lw,up):\n",
    "    for num in range(lw,up+1):\n",
    "        if is_perfect2(num):\n",
    "            print(num,end=\" \")\n",
    "perfect_range(1,1000)"
   ]
  },
  {
   "cell_type": "code",
   "execution_count": 50,
   "metadata": {},
   "outputs": [
    {
     "name": "stdout",
     "output_type": "stream",
     "text": [
      "perfect number\n"
     ]
    }
   ],
   "source": [
    "is_perfect2(28)"
   ]
  },
  {
   "cell_type": "code",
   "execution_count": 52,
   "metadata": {},
   "outputs": [
    {
     "name": "stdout",
     "output_type": "stream",
     "text": [
      "not perfect\n"
     ]
    }
   ],
   "source": [
    "is_perfect2(100)"
   ]
  },
  {
   "cell_type": "markdown",
   "metadata": {},
   "source": [
    "### Strings\n",
    "- one of the data types in python\n",
    "- datatypes:int,float,strings\n",
    "- anything that enclosed within quotes---string\n",
    "- 'a'--string\n",
    "- \"word\"-string\n",
    "- immutable in nature\n",
    "- string declaration\n",
    "- we cannnot divide the integer value into the digits\n",
    "- 12345:single number\n"
   ]
  },
  {
   "cell_type": "code",
   "execution_count": 55,
   "metadata": {},
   "outputs": [
    {
     "name": "stdout",
     "output_type": "stream",
     "text": [
      "KKR*KSR Institute of Technology and Sciences\n"
     ]
    }
   ],
   "source": [
    "clg=\"KKR*KSR Institute of Technology and Sciences\"\n",
    "print(clg)"
   ]
  },
  {
   "cell_type": "code",
   "execution_count": 57,
   "metadata": {},
   "outputs": [
    {
     "name": "stdout",
     "output_type": "stream",
     "text": [
      "KKR&KSR Institute of Technology and Sciences\n"
     ]
    }
   ],
   "source": [
    "name='KKR&KSR Institute of Technology and Sciences'\n",
    "print(name)"
   ]
  },
  {
   "cell_type": "code",
   "execution_count": 58,
   "metadata": {},
   "outputs": [],
   "source": [
    "# a--->signle appearance\n",
    "# collection of chars--word\n",
    "# collection of words-sentence\n",
    "# sentence is divided into words and agains words into chars"
   ]
  },
  {
   "cell_type": "code",
   "execution_count": 60,
   "metadata": {
    "collapsed": true
   },
   "outputs": [
    {
     "name": "stdout",
     "output_type": "stream",
     "text": [
      "string data:ruthu from guntur\n",
      "you enter: ruthu from guntur\n"
     ]
    }
   ],
   "source": [
    "# dynamically\n",
    "st=input(\"string data:\") \n",
    "print(\"you enter:\",st)"
   ]
  },
  {
   "cell_type": "markdown",
   "metadata": {},
   "source": [
    "### String slicing:\n",
    "- **str accessing**\n",
    "    - using index\n",
    "    -  2types:forward and backward\n",
    "    - forward/positive indexing\n",
    "        - from left to right\n",
    "        - starts from 0 to len(iterable)-1\n",
    "        - english=7 chars:0 to 6\n",
    "    - backward/negative indexing:\n",
    "        - right to left\n",
    "        - -1 to -infinite\n",
    "        - **english**-->"
   ]
  },
  {
   "cell_type": "code",
   "execution_count": 62,
   "metadata": {},
   "outputs": [
    {
     "data": {
      "text/plain": [
       "str"
      ]
     },
     "execution_count": 62,
     "metadata": {},
     "output_type": "execute_result"
    }
   ],
   "source": [
    "s=\"ndm,fkl;kjhghjkl-0987654567890-=-098765\"\n",
    "type(s)"
   ]
  },
  {
   "cell_type": "code",
   "execution_count": 63,
   "metadata": {
    "collapsed": true
   },
   "outputs": [
    {
     "ename": "SyntaxError",
     "evalue": "invalid syntax (<ipython-input-63-c715a48225af>, line 1)",
     "output_type": "error",
     "traceback": [
      "\u001b[1;36m  File \u001b[1;32m\"<ipython-input-63-c715a48225af>\"\u001b[1;36m, line \u001b[1;32m1\u001b[0m\n\u001b[1;33m    12345:number:integer data type:int\u001b[0m\n\u001b[1;37m                ^\u001b[0m\n\u001b[1;31mSyntaxError\u001b[0m\u001b[1;31m:\u001b[0m invalid syntax\n"
     ]
    }
   ],
   "source": [
    "12345:number:integer data type:int\n",
    "    # 1 2 3 4 5\n",
    "# english:7 chars in it---word:string"
   ]
  },
  {
   "cell_type": "code",
   "execution_count": 64,
   "metadata": {},
   "outputs": [
    {
     "name": "stdout",
     "output_type": "stream",
     "text": [
      "123\n"
     ]
    }
   ],
   "source": [
    "n=123\n",
    "print(n)"
   ]
  },
  {
   "cell_type": "code",
   "execution_count": 65,
   "metadata": {},
   "outputs": [
    {
     "name": "stdout",
     "output_type": "stream",
     "text": [
      "123\n"
     ]
    }
   ],
   "source": [
    "print(123)"
   ]
  },
  {
   "cell_type": "code",
   "execution_count": 66,
   "metadata": {},
   "outputs": [
    {
     "name": "stdout",
     "output_type": "stream",
     "text": [
      "welcome to python programming\n"
     ]
    }
   ],
   "source": [
    "#welcome to python programming\n",
    "print(\"welcome to python programming\")"
   ]
  },
  {
   "cell_type": "code",
   "execution_count": 67,
   "metadata": {},
   "outputs": [
    {
     "name": "stdout",
     "output_type": "stream",
     "text": [
      "welcome to python programming\n"
     ]
    }
   ],
   "source": [
    "print('welcome to python programming')"
   ]
  },
  {
   "cell_type": "code",
   "execution_count": 69,
   "metadata": {},
   "outputs": [
    {
     "name": "stdout",
     "output_type": "stream",
     "text": [
      "a <class 'str'>\n"
     ]
    }
   ],
   "source": [
    "print('a',type('a'))"
   ]
  },
  {
   "cell_type": "code",
   "execution_count": 70,
   "metadata": {},
   "outputs": [
    {
     "name": "stdout",
     "output_type": "stream",
     "text": [
      "123 <class 'int'>\n"
     ]
    }
   ],
   "source": [
    "print(123,type(123))"
   ]
  },
  {
   "cell_type": "code",
   "execution_count": 71,
   "metadata": {
    "collapsed": true
   },
   "outputs": [
    {
     "name": "stdout",
     "output_type": "stream",
     "text": [
      "E\n",
      "n\n",
      "g\n",
      "l\n",
      "i\n",
      "s\n",
      "h\n"
     ]
    }
   ],
   "source": [
    "lang=\"English\"\n",
    "# print each and every char in that string\n",
    "for ch in lang: # for iterator(ch) in iterable(lang)\n",
    "    print(ch)"
   ]
  },
  {
   "cell_type": "code",
   "execution_count": 73,
   "metadata": {},
   "outputs": [
    {
     "name": "stdout",
     "output_type": "stream",
     "text": [
      "E,n,g,l,i,s,h,"
     ]
    }
   ],
   "source": [
    "for ch in lang:\n",
    "    print(ch,end=\",\")"
   ]
  },
  {
   "cell_type": "code",
   "execution_count": 74,
   "metadata": {},
   "outputs": [
    {
     "data": {
      "text/plain": [
       "'English'"
      ]
     },
     "execution_count": 74,
     "metadata": {},
     "output_type": "execute_result"
    }
   ],
   "source": [
    "lang # 7 chars"
   ]
  },
  {
   "cell_type": "code",
   "execution_count": 75,
   "metadata": {},
   "outputs": [
    {
     "data": {
      "text/plain": [
       "'E'"
      ]
     },
     "execution_count": 75,
     "metadata": {},
     "output_type": "execute_result"
    }
   ],
   "source": [
    "lang[0]"
   ]
  },
  {
   "cell_type": "code",
   "execution_count": 76,
   "metadata": {},
   "outputs": [
    {
     "data": {
      "text/plain": [
       "'n'"
      ]
     },
     "execution_count": 76,
     "metadata": {},
     "output_type": "execute_result"
    }
   ],
   "source": [
    "lang[1] # 2nd char"
   ]
  },
  {
   "cell_type": "code",
   "execution_count": 77,
   "metadata": {},
   "outputs": [
    {
     "data": {
      "text/plain": [
       "'h'"
      ]
     },
     "execution_count": 77,
     "metadata": {},
     "output_type": "execute_result"
    }
   ],
   "source": [
    "lang[6] # 7th char"
   ]
  },
  {
   "cell_type": "code",
   "execution_count": 78,
   "metadata": {},
   "outputs": [
    {
     "data": {
      "text/plain": [
       "'h'"
      ]
     },
     "execution_count": 78,
     "metadata": {},
     "output_type": "execute_result"
    }
   ],
   "source": [
    "lang[-1] # last char"
   ]
  },
  {
   "cell_type": "code",
   "execution_count": 80,
   "metadata": {},
   "outputs": [
    {
     "data": {
      "text/plain": [
       "'s'"
      ]
     },
     "execution_count": 80,
     "metadata": {},
     "output_type": "execute_result"
    }
   ],
   "source": [
    "lang[-2] #last but one char"
   ]
  },
  {
   "cell_type": "code",
   "execution_count": 81,
   "metadata": {},
   "outputs": [
    {
     "data": {
      "text/plain": [
       "'i'"
      ]
     },
     "execution_count": 81,
     "metadata": {},
     "output_type": "execute_result"
    }
   ],
   "source": [
    "lang[-3] "
   ]
  },
  {
   "cell_type": "markdown",
   "metadata": {},
   "source": [
    "### string slicing\n",
    "- slicing the string using index\n",
    "- gettting subpart / some part of entire string"
   ]
  },
  {
   "cell_type": "code",
   "execution_count": 82,
   "metadata": {},
   "outputs": [
    {
     "data": {
      "text/plain": [
       "'KKR&KSR Institute of Technology and Sciences'"
      ]
     },
     "execution_count": 82,
     "metadata": {},
     "output_type": "execute_result"
    }
   ],
   "source": [
    "name"
   ]
  },
  {
   "cell_type": "code",
   "execution_count": 83,
   "metadata": {},
   "outputs": [
    {
     "data": {
      "text/plain": [
       "'I'"
      ]
     },
     "execution_count": 83,
     "metadata": {},
     "output_type": "execute_result"
    }
   ],
   "source": [
    "# Institute : existence\n",
    "# Starts with I & ends with e\n",
    "name[8] # 9th char"
   ]
  },
  {
   "cell_type": "code",
   "execution_count": 84,
   "metadata": {},
   "outputs": [
    {
     "data": {
      "text/plain": [
       "'t'"
      ]
     },
     "execution_count": 84,
     "metadata": {},
     "output_type": "execute_result"
    }
   ],
   "source": [
    "name[15]"
   ]
  },
  {
   "cell_type": "code",
   "execution_count": 86,
   "metadata": {},
   "outputs": [
    {
     "data": {
      "text/plain": [
       "'e'"
      ]
     },
     "execution_count": 86,
     "metadata": {},
     "output_type": "execute_result"
    }
   ],
   "source": [
    "name[16]"
   ]
  },
  {
   "cell_type": "code",
   "execution_count": 88,
   "metadata": {},
   "outputs": [
    {
     "name": "stdout",
     "output_type": "stream",
     "text": [
      "Institute\n"
     ]
    }
   ],
   "source": [
    "print(name[8:17]) # string slicing"
   ]
  },
  {
   "cell_type": "code",
   "execution_count": 95,
   "metadata": {},
   "outputs": [
    {
     "data": {
      "text/plain": [
       "'and'"
      ]
     },
     "execution_count": 95,
     "metadata": {},
     "output_type": "execute_result"
    }
   ],
   "source": [
    "#\"and\"\n",
    "name[32:35]"
   ]
  },
  {
   "cell_type": "code",
   "execution_count": 96,
   "metadata": {},
   "outputs": [
    {
     "data": {
      "text/plain": [
       "'and '"
      ]
     },
     "execution_count": 96,
     "metadata": {},
     "output_type": "execute_result"
    }
   ],
   "source": [
    "name[32:36]"
   ]
  },
  {
   "cell_type": "code",
   "execution_count": 99,
   "metadata": {},
   "outputs": [
    {
     "data": {
      "text/plain": [
       "'d Science'"
      ]
     },
     "execution_count": 99,
     "metadata": {},
     "output_type": "execute_result"
    }
   ],
   "source": [
    "# using -ve indexing\n",
    "name[-10:-1] # forward"
   ]
  },
  {
   "cell_type": "code",
   "execution_count": 100,
   "metadata": {},
   "outputs": [
    {
     "data": {
      "text/plain": [
       "'and'"
      ]
     },
     "execution_count": 100,
     "metadata": {},
     "output_type": "execute_result"
    }
   ],
   "source": [
    "name[-12:-9]"
   ]
  },
  {
   "cell_type": "code",
   "execution_count": 102,
   "metadata": {},
   "outputs": [
    {
     "data": {
      "text/plain": [
       "''"
      ]
     },
     "execution_count": 102,
     "metadata": {},
     "output_type": "execute_result"
    }
   ],
   "source": [
    "name[-1:-10]"
   ]
  },
  {
   "cell_type": "code",
   "execution_count": 103,
   "metadata": {},
   "outputs": [
    {
     "data": {
      "text/plain": [
       "'KKR&KSR Institute of Technology and Sciences'"
      ]
     },
     "execution_count": 103,
     "metadata": {},
     "output_type": "execute_result"
    }
   ],
   "source": [
    "name"
   ]
  },
  {
   "cell_type": "markdown",
   "metadata": {},
   "source": [
    "### String methods\n",
    "- isalpha()\n",
    "- isnumeric()\n",
    "- isupper()\n",
    "- islower()\n",
    "- upper()\n",
    "- lower()\n",
    "- count()\n",
    "- replace(new,old)\n",
    "- index()\n",
    "- startswith()\n",
    "- endswith()\n",
    "- swapcase()\n",
    "- title()\n",
    "- casefold()\n",
    "- capitalize()\n",
    "- split()\n",
    "- strip()"
   ]
  },
  {
   "cell_type": "code",
   "execution_count": 104,
   "metadata": {},
   "outputs": [
    {
     "data": {
      "text/plain": [
       "'KKR&KSR Institute of Technology and Sciences'"
      ]
     },
     "execution_count": 104,
     "metadata": {},
     "output_type": "execute_result"
    }
   ],
   "source": [
    "name"
   ]
  },
  {
   "cell_type": "code",
   "execution_count": 107,
   "metadata": {},
   "outputs": [
    {
     "data": {
      "text/plain": [
       "False"
      ]
     },
     "execution_count": 107,
     "metadata": {},
     "output_type": "execute_result"
    }
   ],
   "source": [
    "name.isalpha() # whether that string is alpha or not"
   ]
  },
  {
   "cell_type": "code",
   "execution_count": 109,
   "metadata": {},
   "outputs": [
    {
     "data": {
      "text/plain": [
       "True"
      ]
     },
     "execution_count": 109,
     "metadata": {},
     "output_type": "execute_result"
    }
   ],
   "source": [
    "\"ruthu\".isalpha()"
   ]
  },
  {
   "cell_type": "code",
   "execution_count": 111,
   "metadata": {},
   "outputs": [
    {
     "data": {
      "text/plain": [
       "False"
      ]
     },
     "execution_count": 111,
     "metadata": {},
     "output_type": "execute_result"
    }
   ],
   "source": [
    "name.isupper() # entire string is not in uppercase"
   ]
  },
  {
   "cell_type": "code",
   "execution_count": 112,
   "metadata": {},
   "outputs": [
    {
     "data": {
      "text/plain": [
       "True"
      ]
     },
     "execution_count": 112,
     "metadata": {},
     "output_type": "execute_result"
    }
   ],
   "source": [
    "\"ruthu\".islower()"
   ]
  },
  {
   "cell_type": "code",
   "execution_count": 113,
   "metadata": {},
   "outputs": [
    {
     "data": {
      "text/plain": [
       "True"
      ]
     },
     "execution_count": 113,
     "metadata": {},
     "output_type": "execute_result"
    }
   ],
   "source": [
    "\"ruthu1234\".isalnum() # alphanumeric string"
   ]
  },
  {
   "cell_type": "code",
   "execution_count": 114,
   "metadata": {},
   "outputs": [
    {
     "data": {
      "text/plain": [
       "'KKR&KSR INSTITUTE OF TECHNOLOGY AND SCIENCES'"
      ]
     },
     "execution_count": 114,
     "metadata": {},
     "output_type": "execute_result"
    }
   ],
   "source": [
    "name.upper() # converts the string into uppercase alphabets"
   ]
  },
  {
   "cell_type": "code",
   "execution_count": 115,
   "metadata": {},
   "outputs": [
    {
     "data": {
      "text/plain": [
       "'KKR&KSR Institute of Technology and Sciences'"
      ]
     },
     "execution_count": 115,
     "metadata": {},
     "output_type": "execute_result"
    }
   ],
   "source": [
    "name"
   ]
  },
  {
   "cell_type": "code",
   "execution_count": 116,
   "metadata": {},
   "outputs": [
    {
     "data": {
      "text/plain": [
       "'kkr&ksr institute of technology and sciences'"
      ]
     },
     "execution_count": 116,
     "metadata": {},
     "output_type": "execute_result"
    }
   ],
   "source": [
    "name.lower()"
   ]
  },
  {
   "cell_type": "code",
   "execution_count": 117,
   "metadata": {},
   "outputs": [
    {
     "data": {
      "text/plain": [
       "'kkr&ksr iNSTITUTE OF tECHNOLOGY AND sCIENCES'"
      ]
     },
     "execution_count": 117,
     "metadata": {},
     "output_type": "execute_result"
    }
   ],
   "source": [
    "name.swapcase() # in lower--upper and vice-versa"
   ]
  },
  {
   "cell_type": "code",
   "execution_count": 118,
   "metadata": {},
   "outputs": [
    {
     "data": {
      "text/plain": [
       "False"
      ]
     },
     "execution_count": 118,
     "metadata": {},
     "output_type": "execute_result"
    }
   ],
   "source": [
    "name.startswith(\"k\")"
   ]
  },
  {
   "cell_type": "code",
   "execution_count": 119,
   "metadata": {},
   "outputs": [
    {
     "data": {
      "text/plain": [
       "True"
      ]
     },
     "execution_count": 119,
     "metadata": {},
     "output_type": "execute_result"
    }
   ],
   "source": [
    "name.endswith(\"s\")"
   ]
  },
  {
   "cell_type": "code",
   "execution_count": 120,
   "metadata": {},
   "outputs": [
    {
     "data": {
      "text/plain": [
       "True"
      ]
     },
     "execution_count": 120,
     "metadata": {},
     "output_type": "execute_result"
    }
   ],
   "source": [
    "\"and\" in name # membership"
   ]
  },
  {
   "cell_type": "code",
   "execution_count": 121,
   "metadata": {},
   "outputs": [
    {
     "data": {
      "text/plain": [
       "False"
      ]
     },
     "execution_count": 121,
     "metadata": {},
     "output_type": "execute_result"
    }
   ],
   "source": [
    "\"and\" not in name"
   ]
  },
  {
   "cell_type": "code",
   "execution_count": 156,
   "metadata": {},
   "outputs": [
    {
     "name": "stdout",
     "output_type": "stream",
     "text": [
      "no.of occurences: 3\n"
     ]
    }
   ],
   "source": [
    "\n",
    "count=0\n",
    "for ch in name:\n",
    "    if ch==\"o\":\n",
    "        count+=1\n",
    "print(\"no.of occurences:\",count)"
   ]
  },
  {
   "cell_type": "code",
   "execution_count": 125,
   "metadata": {},
   "outputs": [
    {
     "data": {
      "text/plain": [
       "'KKR&KSR Institute of Technology and Sciences'"
      ]
     },
     "execution_count": 125,
     "metadata": {},
     "output_type": "execute_result"
    }
   ],
   "source": [
    "name"
   ]
  },
  {
   "cell_type": "code",
   "execution_count": 126,
   "metadata": {},
   "outputs": [
    {
     "data": {
      "text/plain": [
       "3"
      ]
     },
     "execution_count": 126,
     "metadata": {},
     "output_type": "execute_result"
    }
   ],
   "source": [
    "name.count(\"o\")"
   ]
  },
  {
   "cell_type": "code",
   "execution_count": 127,
   "metadata": {},
   "outputs": [
    {
     "data": {
      "text/plain": [
       "'KKR&KSR Institute of Technology new Sciences'"
      ]
     },
     "execution_count": 127,
     "metadata": {},
     "output_type": "execute_result"
    }
   ],
   "source": [
    "name.replace(\"and\",'new')"
   ]
  },
  {
   "cell_type": "code",
   "execution_count": 128,
   "metadata": {
    "collapsed": true
   },
   "outputs": [
    {
     "data": {
      "text/plain": [
       "['__add__',\n",
       " '__class__',\n",
       " '__contains__',\n",
       " '__delattr__',\n",
       " '__dir__',\n",
       " '__doc__',\n",
       " '__eq__',\n",
       " '__format__',\n",
       " '__ge__',\n",
       " '__getattribute__',\n",
       " '__getitem__',\n",
       " '__getnewargs__',\n",
       " '__gt__',\n",
       " '__hash__',\n",
       " '__init__',\n",
       " '__init_subclass__',\n",
       " '__iter__',\n",
       " '__le__',\n",
       " '__len__',\n",
       " '__lt__',\n",
       " '__mod__',\n",
       " '__mul__',\n",
       " '__ne__',\n",
       " '__new__',\n",
       " '__reduce__',\n",
       " '__reduce_ex__',\n",
       " '__repr__',\n",
       " '__rmod__',\n",
       " '__rmul__',\n",
       " '__setattr__',\n",
       " '__sizeof__',\n",
       " '__str__',\n",
       " '__subclasshook__',\n",
       " 'capitalize',\n",
       " 'casefold',\n",
       " 'center',\n",
       " 'count',\n",
       " 'encode',\n",
       " 'endswith',\n",
       " 'expandtabs',\n",
       " 'find',\n",
       " 'format',\n",
       " 'format_map',\n",
       " 'index',\n",
       " 'isalnum',\n",
       " 'isalpha',\n",
       " 'isascii',\n",
       " 'isdecimal',\n",
       " 'isdigit',\n",
       " 'isidentifier',\n",
       " 'islower',\n",
       " 'isnumeric',\n",
       " 'isprintable',\n",
       " 'isspace',\n",
       " 'istitle',\n",
       " 'isupper',\n",
       " 'join',\n",
       " 'ljust',\n",
       " 'lower',\n",
       " 'lstrip',\n",
       " 'maketrans',\n",
       " 'partition',\n",
       " 'replace',\n",
       " 'rfind',\n",
       " 'rindex',\n",
       " 'rjust',\n",
       " 'rpartition',\n",
       " 'rsplit',\n",
       " 'rstrip',\n",
       " 'split',\n",
       " 'splitlines',\n",
       " 'startswith',\n",
       " 'strip',\n",
       " 'swapcase',\n",
       " 'title',\n",
       " 'translate',\n",
       " 'upper',\n",
       " 'zfill']"
      ]
     },
     "execution_count": 128,
     "metadata": {},
     "output_type": "execute_result"
    }
   ],
   "source": [
    "dir(name)"
   ]
  },
  {
   "cell_type": "code",
   "execution_count": 129,
   "metadata": {},
   "outputs": [
    {
     "data": {
      "text/plain": [
       "21"
      ]
     },
     "execution_count": 129,
     "metadata": {},
     "output_type": "execute_result"
    }
   ],
   "source": [
    "name.index(\"T\")"
   ]
  },
  {
   "cell_type": "code",
   "execution_count": 130,
   "metadata": {},
   "outputs": [
    {
     "data": {
      "text/plain": [
       "'T'"
      ]
     },
     "execution_count": 130,
     "metadata": {},
     "output_type": "execute_result"
    }
   ],
   "source": [
    "name[21]"
   ]
  },
  {
   "cell_type": "code",
   "execution_count": 131,
   "metadata": {},
   "outputs": [
    {
     "data": {
      "text/plain": [
       "18"
      ]
     },
     "execution_count": 131,
     "metadata": {},
     "output_type": "execute_result"
    }
   ],
   "source": [
    "name.index(\"o\") # first occurence value"
   ]
  },
  {
   "cell_type": "code",
   "execution_count": 132,
   "metadata": {},
   "outputs": [
    {
     "data": {
      "text/plain": [
       "21"
      ]
     },
     "execution_count": 132,
     "metadata": {},
     "output_type": "execute_result"
    }
   ],
   "source": [
    "name.index(\"Tech\")"
   ]
  },
  {
   "cell_type": "code",
   "execution_count": 134,
   "metadata": {},
   "outputs": [
    {
     "data": {
      "text/plain": [
       "['KKR&KSR', 'Institute', 'of', 'Technology', 'and', 'Sciences']"
      ]
     },
     "execution_count": 134,
     "metadata": {},
     "output_type": "execute_result"
    }
   ],
   "source": [
    "name.split() # list of words"
   ]
  },
  {
   "cell_type": "code",
   "execution_count": 136,
   "metadata": {},
   "outputs": [
    {
     "data": {
      "text/plain": [
       "['ruthu', 'apssdc', 'from guntur']"
      ]
     },
     "execution_count": 136,
     "metadata": {},
     "output_type": "execute_result"
    }
   ],
   "source": [
    "s=\"ruthu,apssdc,from guntur\"\n",
    "s.split(\",\")"
   ]
  },
  {
   "cell_type": "code",
   "execution_count": 137,
   "metadata": {},
   "outputs": [
    {
     "name": "stdout",
     "output_type": "stream",
     "text": [
      "ruthu\n",
      "apssdc\n",
      "from guntur\n"
     ]
    }
   ],
   "source": [
    "for word in s.split(\",\"):\n",
    "    print(word)"
   ]
  },
  {
   "cell_type": "code",
   "execution_count": 138,
   "metadata": {},
   "outputs": [
    {
     "data": {
      "text/plain": [
       "'ruthu from apssdc'"
      ]
     },
     "execution_count": 138,
     "metadata": {},
     "output_type": "execute_result"
    }
   ],
   "source": [
    "# strip the string\n",
    "sp=\"    ruthu from apssdc                \"\n",
    "sp.strip() # spaces will be removed at both ends"
   ]
  },
  {
   "cell_type": "code",
   "execution_count": 139,
   "metadata": {},
   "outputs": [
    {
     "data": {
      "text/plain": [
       "'    ruthu from apssdc'"
      ]
     },
     "execution_count": 139,
     "metadata": {},
     "output_type": "execute_result"
    }
   ],
   "source": [
    "sp.rstrip()"
   ]
  },
  {
   "cell_type": "code",
   "execution_count": 140,
   "metadata": {},
   "outputs": [
    {
     "data": {
      "text/plain": [
       "'ruthu from apssdc                '"
      ]
     },
     "execution_count": 140,
     "metadata": {},
     "output_type": "execute_result"
    }
   ],
   "source": [
    "sp.lstrip()"
   ]
  },
  {
   "cell_type": "code",
   "execution_count": 148,
   "metadata": {},
   "outputs": [
    {
     "data": {
      "text/plain": [
       "'K,K,R,&,K,S,R, ,I,n,s,t,i,t,u,t,e, ,o,f, ,T,e,c,h,n,o,l,o,g,y, ,a,n,d, ,S,c,i,e,n,c,e,s'"
      ]
     },
     "execution_count": 148,
     "metadata": {},
     "output_type": "execute_result"
    }
   ],
   "source": [
    "\",\".join(name) # entire string joins with \"@\""
   ]
  },
  {
   "cell_type": "code",
   "execution_count": 149,
   "metadata": {},
   "outputs": [
    {
     "data": {
      "text/plain": [
       "'KKR&KSR Institute of Technology and Sciences'"
      ]
     },
     "execution_count": 149,
     "metadata": {},
     "output_type": "execute_result"
    }
   ],
   "source": [
    "name[:]"
   ]
  },
  {
   "cell_type": "code",
   "execution_count": 150,
   "metadata": {},
   "outputs": [
    {
     "data": {
      "text/plain": [
       "'KKR&KSR Institute of Technology and Sciences'"
      ]
     },
     "execution_count": 150,
     "metadata": {},
     "output_type": "execute_result"
    }
   ],
   "source": [
    "name[::]"
   ]
  },
  {
   "cell_type": "code",
   "execution_count": 151,
   "metadata": {},
   "outputs": [
    {
     "data": {
      "text/plain": [
       "'secneicS dna ygolonhceT fo etutitsnI RSK&RKK'"
      ]
     },
     "execution_count": 151,
     "metadata": {},
     "output_type": "execute_result"
    }
   ],
   "source": [
    "name[::-1] # you will represent the entire stirng in reverse order"
   ]
  },
  {
   "cell_type": "code",
   "execution_count": 152,
   "metadata": {},
   "outputs": [
    {
     "data": {
      "text/plain": [
       "'scec n glncTf tttn S&K'"
      ]
     },
     "execution_count": 152,
     "metadata": {},
     "output_type": "execute_result"
    }
   ],
   "source": [
    "name[::-2] # alternate chars in reverse"
   ]
  },
  {
   "cell_type": "code",
   "execution_count": 154,
   "metadata": {},
   "outputs": [
    {
     "data": {
      "text/plain": [
       "'K&RnitoThlynSee'"
      ]
     },
     "execution_count": 154,
     "metadata": {},
     "output_type": "execute_result"
    }
   ],
   "source": [
    "name[::2] # range(3)"
   ]
  },
  {
   "cell_type": "code",
   "execution_count": 155,
   "metadata": {
    "collapsed": true
   },
   "outputs": [
    {
     "name": "stdout",
     "output_type": "stream",
     "text": [
      "K\n",
      "&\n",
      "R\n",
      "n\n",
      "i\n",
      "t\n",
      "o\n",
      "T\n",
      "h\n",
      "l\n",
      "y\n",
      "n\n",
      "S\n",
      "e\n",
      "e\n"
     ]
    }
   ],
   "source": [
    "for ch in name[::3]:\n",
    "    print(ch)"
   ]
  },
  {
   "cell_type": "code",
   "execution_count": null,
   "metadata": {},
   "outputs": [],
   "source": [
    "#string: if you want to count the number occurences of perticular char in string\n",
    "# to print the repeated characters present in above string\n",
    "#o/p:i,o,e,a,r\n",
    "#............#\n",
    "# string whether is palindrome or not using functions\n",
    "# count the number of digits present in an integer\n",
    "#i/p:12345:number of digits:5,sum of the digits:1+2+3+4+5=15(o/p)"
   ]
  }
 ],
 "metadata": {
  "kernelspec": {
   "display_name": "Python 3",
   "language": "python",
   "name": "python3"
  },
  "language_info": {
   "codemirror_mode": {
    "name": "ipython",
    "version": 3
   },
   "file_extension": ".py",
   "mimetype": "text/x-python",
   "name": "python",
   "nbconvert_exporter": "python",
   "pygments_lexer": "ipython3",
   "version": "3.7.4"
  }
 },
 "nbformat": 4,
 "nbformat_minor": 2
}
