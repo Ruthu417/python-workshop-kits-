{
 "cells": [
  {
   "cell_type": "markdown",
   "metadata": {},
   "source": [
    "### Today Topics\n",
    "- Iterating statements \n",
    "- Control/Jumping statements\n",
    "- C is meant for developing operating system\n",
    "- it is procedure oriented language\n",
    "- pythoon is not meant for process\n",
    "- and Python both are same but syntax is different"
   ]
  },
  {
   "cell_type": "markdown",
   "metadata": {},
   "source": [
    "### For loop\n",
    "- an iterating statements that repeats the perticular statements for multiple times\n",
    "- default incrementation\n",
    "- syntax:\n",
    "    - for iterator in iterable:\n",
    "        - statements goes here\n",
    "    - for iterator in range(iterable):\n",
    "        - statements here"
   ]
  },
  {
   "cell_type": "code",
   "execution_count": null,
   "metadata": {},
   "outputs": [],
   "source": [
    "# print the numbers present in a range(1,100)\n",
    "print(1)\n",
    "print(2)\n",
    "print(3)\n",
    "print(4)\n",
    ".....\n",
    "print(100) # 100 times"
   ]
  },
  {
   "cell_type": "code",
   "execution_count": 26,
   "metadata": {
    "collapsed": true
   },
   "outputs": [
    {
     "name": "stdout",
     "output_type": "stream",
     "text": [
      "1 2 3 4 5 6 7 8 9 10 11 12 13 14 15 16 17 18 19 20 21 22 23 24 25 26 27 28 29 30 31 32 33 34 35 36 37 38 39 40 41 42 43 44 45 46 47 48 49 50 51 52 53 54 55 56 57 58 59 60 61 62 63 64 65 66 67 68 69 70 71 72 73 74 75 76 77 78 79 80 81 82 83 84 85 86 87 88 89 90 91 92 93 94 95 96 97 98 99 100 "
     ]
    }
   ],
   "source": [
    "for num in range(1,101): # 100 itself\n",
    "    print(num,end=\" \") # end the statement with \" \"/space"
   ]
  },
  {
   "cell_type": "code",
   "execution_count": 28,
   "metadata": {
    "collapsed": true
   },
   "outputs": [
    {
     "name": "stdout",
     "output_type": "stream",
     "text": [
      "sum of first 10 natural numbers is 55\n"
     ]
    }
   ],
   "source": [
    "# find the sum of n natural numbers\n",
    "#n=10,(1,10)=55:n(n+1)//2--each +each+1\n",
    "# sum of the numbers present from 1 to the number(n)\n",
    "# n=6:1+2+3+4+5+6=21\n",
    "s=0 # s variable\n",
    "for num in range(1,11): \n",
    "    s+=num # s=s+num,\n",
    "print(\"sum of first 10 natural numbers is\",s)"
   ]
  },
  {
   "cell_type": "code",
   "execution_count": 29,
   "metadata": {},
   "outputs": [
    {
     "name": "stdout",
     "output_type": "stream",
     "text": [
      "Enter the number:10\n",
      "sum of first n natural numbers is 55\n"
     ]
    }
   ],
   "source": [
    "n=int(input(\"Enter the number:\"))\n",
    "print(\"sum of first n natural numbers is\",(n*(n+1))//2)"
   ]
  },
  {
   "cell_type": "code",
   "execution_count": 33,
   "metadata": {},
   "outputs": [
    {
     "name": "stdout",
     "output_type": "stream",
     "text": [
      "20\n",
      "Factors are:1 2 4 5 10 20 "
     ]
    }
   ],
   "source": [
    "# print the factors of a number\n",
    "# n=10:1,2,5,10==\n",
    "# print the multiplication table\n",
    "# 1 to n:1 to n/2\n",
    "#20:1,2,4,5,10:exact divisor:\n",
    "\n",
    "n=int(input())\n",
    "print(\"Factors are\",end=\":\")\n",
    "for num in range(1,n+1):\n",
    "    if n%num is 0:\n",
    "        print(num,end=\" \")"
   ]
  },
  {
   "cell_type": "code",
   "execution_count": 37,
   "metadata": {
    "collapsed": true
   },
   "outputs": [
    {
     "name": "stdout",
     "output_type": "stream",
     "text": [
      "enter n value9\n",
      "9 * 1 = 9\n",
      "9 * 2 = 18\n",
      "9 * 3 = 27\n",
      "9 * 4 = 36\n",
      "9 * 5 = 45\n",
      "9 * 6 = 54\n",
      "9 * 7 = 63\n",
      "9 * 8 = 72\n",
      "9 * 9 = 81\n",
      "9 * 10 = 90\n"
     ]
    }
   ],
   "source": [
    "#nth multiplication table\n",
    "#n=int(input())\n",
    "# 1 to 20\n",
    "''' 4x1=4 # \n",
    "4x2=8\n",
    "4x3=12\n",
    "...\n",
    "4x20=80 '''\n",
    "n=int(input(\"enter n value\"))\n",
    "for i in range(1,11): # 9 iterations,4iteration # 1 to 10\n",
    " c=n*i\n",
    " print(n,\"*\",i,\"=\",c)\n"
   ]
  },
  {
   "cell_type": "code",
   "execution_count": 38,
   "metadata": {
    "collapsed": true
   },
   "outputs": [
    {
     "name": "stdout",
     "output_type": "stream",
     "text": [
      "9\n",
      "9 x 1 = 9\n",
      "9 x 2 = 18\n",
      "9 x 3 = 27\n",
      "9 x 4 = 36\n",
      "9 x 5 = 45\n",
      "9 x 6 = 54\n",
      "9 x 7 = 63\n",
      "9 x 8 = 72\n",
      "9 x 9 = 81\n",
      "9 x 10 = 90\n"
     ]
    }
   ],
   "source": [
    "n=int(input())\n",
    "for num in range(1,11):\n",
    "    print(n,'x',num,\"=\",n*num)"
   ]
  },
  {
   "cell_type": "code",
   "execution_count": 44,
   "metadata": {
    "collapsed": true
   },
   "outputs": [
    {
     "name": "stdout",
     "output_type": "stream",
     "text": [
      "19\n",
      "19 x 1 = 19\n",
      "19 x 3 = 57\n",
      "19 x 5 = 95\n",
      "19 x 7 = 133\n",
      "19 x 9 = 171\n",
      "19 x 11 = 209\n",
      "19 x 13 = 247\n",
      "19 x 15 = 285\n",
      "19 x 17 = 323\n",
      "19 x 19 = 361\n"
     ]
    }
   ],
   "source": [
    "''' 1 to 20:continuos\n",
    "9x1=9\n",
    "9x3=27\n",
    "9x5=45\n",
    "...\n",
    "9x15=135 '''\n",
    "mul=int(input())\n",
    "for num in range(1,21,2):\n",
    "    print(mul,'x',num,\"=\",mul*num)"
   ]
  },
  {
   "cell_type": "code",
   "execution_count": 43,
   "metadata": {
    "collapsed": true
   },
   "outputs": [
    {
     "name": "stdout",
     "output_type": "stream",
     "text": [
      "enter a number9\n",
      "9 * 1 = 9\n",
      "9 * 2 = 18\n",
      "9 * 3 = 27\n",
      "9 * 4 = 36\n",
      "9 * 5 = 45\n",
      "9 * 6 = 54\n",
      "9 * 7 = 63\n",
      "9 * 8 = 72\n",
      "9 * 9 = 81\n",
      "9 * 10 = 90\n",
      "9 * 1 = 9\n",
      "9 * 2 = 18\n",
      "9 * 3 = 27\n",
      "9 * 4 = 36\n",
      "9 * 5 = 45\n",
      "9 * 6 = 54\n",
      "9 * 7 = 63\n",
      "9 * 8 = 72\n",
      "9 * 9 = 81\n",
      "9 * 10 = 90\n",
      "9 * 1 = 9\n",
      "9 * 2 = 18\n",
      "9 * 3 = 27\n",
      "9 * 4 = 36\n",
      "9 * 5 = 45\n",
      "9 * 6 = 54\n",
      "9 * 7 = 63\n",
      "9 * 8 = 72\n",
      "9 * 9 = 81\n",
      "9 * 10 = 90\n",
      "9 * 1 = 9\n",
      "9 * 2 = 18\n",
      "9 * 3 = 27\n",
      "9 * 4 = 36\n",
      "9 * 5 = 45\n",
      "9 * 6 = 54\n",
      "9 * 7 = 63\n",
      "9 * 8 = 72\n",
      "9 * 9 = 81\n",
      "9 * 10 = 90\n",
      "9 * 1 = 9\n",
      "9 * 2 = 18\n",
      "9 * 3 = 27\n",
      "9 * 4 = 36\n",
      "9 * 5 = 45\n",
      "9 * 6 = 54\n",
      "9 * 7 = 63\n",
      "9 * 8 = 72\n",
      "9 * 9 = 81\n",
      "9 * 10 = 90\n",
      "9 * 1 = 9\n",
      "9 * 2 = 18\n",
      "9 * 3 = 27\n",
      "9 * 4 = 36\n",
      "9 * 5 = 45\n",
      "9 * 6 = 54\n",
      "9 * 7 = 63\n",
      "9 * 8 = 72\n",
      "9 * 9 = 81\n",
      "9 * 10 = 90\n",
      "9 * 1 = 9\n",
      "9 * 2 = 18\n",
      "9 * 3 = 27\n",
      "9 * 4 = 36\n",
      "9 * 5 = 45\n",
      "9 * 6 = 54\n",
      "9 * 7 = 63\n",
      "9 * 8 = 72\n",
      "9 * 9 = 81\n",
      "9 * 10 = 90\n",
      "9 * 1 = 9\n",
      "9 * 2 = 18\n",
      "9 * 3 = 27\n",
      "9 * 4 = 36\n",
      "9 * 5 = 45\n",
      "9 * 6 = 54\n",
      "9 * 7 = 63\n",
      "9 * 8 = 72\n",
      "9 * 9 = 81\n",
      "9 * 10 = 90\n",
      "9 * 1 = 9\n",
      "9 * 2 = 18\n",
      "9 * 3 = 27\n",
      "9 * 4 = 36\n",
      "9 * 5 = 45\n",
      "9 * 6 = 54\n",
      "9 * 7 = 63\n",
      "9 * 8 = 72\n",
      "9 * 9 = 81\n",
      "9 * 10 = 90\n",
      "9 * 1 = 9\n",
      "9 * 2 = 18\n",
      "9 * 3 = 27\n",
      "9 * 4 = 36\n",
      "9 * 5 = 45\n",
      "9 * 6 = 54\n",
      "9 * 7 = 63\n",
      "9 * 8 = 72\n",
      "9 * 9 = 81\n",
      "9 * 10 = 90\n",
      "9 * 1 = 9\n",
      "9 * 2 = 18\n",
      "9 * 3 = 27\n",
      "9 * 4 = 36\n",
      "9 * 5 = 45\n",
      "9 * 6 = 54\n",
      "9 * 7 = 63\n",
      "9 * 8 = 72\n",
      "9 * 9 = 81\n",
      "9 * 10 = 90\n",
      "9 * 1 = 9\n",
      "9 * 2 = 18\n",
      "9 * 3 = 27\n",
      "9 * 4 = 36\n",
      "9 * 5 = 45\n",
      "9 * 6 = 54\n",
      "9 * 7 = 63\n",
      "9 * 8 = 72\n",
      "9 * 9 = 81\n",
      "9 * 10 = 90\n",
      "9 * 1 = 9\n",
      "9 * 2 = 18\n",
      "9 * 3 = 27\n",
      "9 * 4 = 36\n",
      "9 * 5 = 45\n",
      "9 * 6 = 54\n",
      "9 * 7 = 63\n",
      "9 * 8 = 72\n",
      "9 * 9 = 81\n",
      "9 * 10 = 90\n",
      "9 * 1 = 9\n",
      "9 * 2 = 18\n",
      "9 * 3 = 27\n",
      "9 * 4 = 36\n",
      "9 * 5 = 45\n",
      "9 * 6 = 54\n",
      "9 * 7 = 63\n",
      "9 * 8 = 72\n",
      "9 * 9 = 81\n",
      "9 * 10 = 90\n",
      "9 * 1 = 9\n",
      "9 * 2 = 18\n",
      "9 * 3 = 27\n",
      "9 * 4 = 36\n",
      "9 * 5 = 45\n",
      "9 * 6 = 54\n",
      "9 * 7 = 63\n",
      "9 * 8 = 72\n",
      "9 * 9 = 81\n",
      "9 * 10 = 90\n",
      "9 * 1 = 9\n",
      "9 * 2 = 18\n",
      "9 * 3 = 27\n",
      "9 * 4 = 36\n",
      "9 * 5 = 45\n",
      "9 * 6 = 54\n",
      "9 * 7 = 63\n",
      "9 * 8 = 72\n",
      "9 * 9 = 81\n",
      "9 * 10 = 90\n",
      "9 * 1 = 9\n",
      "9 * 2 = 18\n",
      "9 * 3 = 27\n",
      "9 * 4 = 36\n",
      "9 * 5 = 45\n",
      "9 * 6 = 54\n",
      "9 * 7 = 63\n",
      "9 * 8 = 72\n",
      "9 * 9 = 81\n",
      "9 * 10 = 90\n",
      "9 * 1 = 9\n",
      "9 * 2 = 18\n",
      "9 * 3 = 27\n",
      "9 * 4 = 36\n",
      "9 * 5 = 45\n",
      "9 * 6 = 54\n",
      "9 * 7 = 63\n",
      "9 * 8 = 72\n",
      "9 * 9 = 81\n",
      "9 * 10 = 90\n",
      "9 * 1 = 9\n",
      "9 * 2 = 18\n",
      "9 * 3 = 27\n",
      "9 * 4 = 36\n",
      "9 * 5 = 45\n",
      "9 * 6 = 54\n",
      "9 * 7 = 63\n",
      "9 * 8 = 72\n",
      "9 * 9 = 81\n",
      "9 * 10 = 90\n"
     ]
    }
   ],
   "source": [
    "n=int(input (\"enter a number\")) \n",
    "for i in range(2, 21) : #19 iterations\n",
    "    for i in range(1, 11) : #10 iterations for every iteration # 190 times \n",
    "        mul=n*i\n",
    "        print(n, \"*\", i, \"=\", mul) \n"
   ]
  },
  {
   "cell_type": "markdown",
   "metadata": {},
   "source": [
    "#### Control statements/Jumping statements\n",
    "- controls flow of execution\n",
    "    - break,continue and pass"
   ]
  },
  {
   "cell_type": "code",
   "execution_count": 47,
   "metadata": {
    "collapsed": true
   },
   "outputs": [
    {
     "name": "stdout",
     "output_type": "stream",
     "text": [
      "10 x 1 = 10\n",
      "10 x 4 = 40\n",
      "10 x 7 = 70\n",
      "10 x 10 = 100\n",
      "10 x 13 = 130\n",
      "10 x 16 = 160\n",
      "10 x 19 = 190\n"
     ]
    }
   ],
   "source": [
    "for num in range(1,21,3): # range(start,stop,step_count)\n",
    "    print(10,\"x\",num,'=',10*num)\n",
    "    if num==15:\n",
    "        break # "
   ]
  },
  {
   "cell_type": "code",
   "execution_count": 48,
   "metadata": {
    "collapsed": true
   },
   "outputs": [
    {
     "ename": "SyntaxError",
     "evalue": "invalid syntax (<ipython-input-48-7edd08098e75>, line 1)",
     "output_type": "error",
     "traceback": [
      "\u001b[1;36m  File \u001b[1;32m\"<ipython-input-48-7edd08098e75>\"\u001b[1;36m, line \u001b[1;32m1\u001b[0m\n\u001b[1;33m    1 2 3 4 5 6 7 8 9 10:\u001b[0m\n\u001b[1;37m      ^\u001b[0m\n\u001b[1;31mSyntaxError\u001b[0m\u001b[1;31m:\u001b[0m invalid syntax\n"
     ]
    }
   ],
   "source": [
    "1 2 3 4 5 6 7 8 9 10:\n",
    "    1 3 5 7 9 # odds,skipped value=1,1+2=3+2=5,1+1=2\n",
    "    "
   ]
  },
  {
   "cell_type": "code",
   "execution_count": 50,
   "metadata": {
    "collapsed": true
   },
   "outputs": [
    {
     "name": "stdout",
     "output_type": "stream",
     "text": [
      "19 x 10 = 190\n",
      "19 x 9 = 171\n",
      "19 x 8 = 152\n",
      "19 x 7 = 133\n",
      "19 x 6 = 114\n",
      "19 x 5 = 95\n",
      "19 x 4 = 76\n",
      "19 x 3 = 57\n",
      "19 x 2 = 38\n",
      "19 x 1 = 19\n"
     ]
    }
   ],
   "source": [
    "# print the multiplication table in reverse order\n",
    "''' 9x10=90\n",
    "9x9=81\n",
    "9x8=72\n",
    "....\n",
    "9x1=9 '''\n",
    "for val in range(10,0,-1):\n",
    "    print(19,'x',val,'=',19*val)\n"
   ]
  },
  {
   "cell_type": "code",
   "execution_count": 51,
   "metadata": {
    "collapsed": true
   },
   "outputs": [
    {
     "name": "stdout",
     "output_type": "stream",
     "text": [
      "19 x 10 = 190\n",
      "19 x 8 = 152\n",
      "19 x 6 = 114\n",
      "19 x 4 = 76\n",
      "19 x 2 = 38\n"
     ]
    }
   ],
   "source": [
    "for val in range(10,0,-2):\n",
    "    print(19,'x',val,'=',19*val)\n"
   ]
  },
  {
   "cell_type": "code",
   "execution_count": 57,
   "metadata": {
    "collapsed": true
   },
   "outputs": [
    {
     "name": "stdout",
     "output_type": "stream",
     "text": [
      "Enter the number:13\n",
      "Prime number\n"
     ]
    }
   ],
   "source": [
    "# prime or not\n",
    "# number:2 factors .i.e., 1 & number itself\n",
    "p=int(input(\"Enter the number:\"))\n",
    "factors=0\n",
    "for num in range(1,p+1): # p iteration\n",
    "    if p%num==0: # condition\n",
    "        factors+=1 # factors=factors+1,\n",
    "if factors is 2:\n",
    "    print(\"Prime number\")\n",
    "else:\n",
    "    print(\"Not a prime\")"
   ]
  },
  {
   "cell_type": "code",
   "execution_count": 59,
   "metadata": {
    "collapsed": true
   },
   "outputs": [
    {
     "name": "stdout",
     "output_type": "stream",
     "text": [
      "50\n",
      "1 2 5 10 25 50 no.of factors= 6\n"
     ]
    }
   ],
   "source": [
    "#10:1 2 5 10:4 factors,oral\n",
    "n=int(input())\n",
    "count=0\n",
    "for num in range(1,n+1): # \n",
    "    if n%num==0:\n",
    "        print(num,end=\" \")\n",
    "        count+=1 # count=count+1\n",
    "print(\"no.of factors=\",count)"
   ]
  },
  {
   "cell_type": "markdown",
   "metadata": {},
   "source": [
    "### While Loop\n",
    "- user incrementation\n",
    "- condition based iteration\n",
    "- syntax:\n",
    "    - while condition:\n",
    "        - statements goes here"
   ]
  },
  {
   "cell_type": "code",
   "execution_count": 60,
   "metadata": {},
   "outputs": [
    {
     "name": "stdout",
     "output_type": "stream",
     "text": [
      "1 2 3 4 5 6 7 8 9 10 11 12 13 14 15 16 17 18 19 20 21 22 23 24 25 26 27 28 29 30 31 32 33 34 35 36 37 38 39 40 41 42 43 44 45 46 47 48 49 50 "
     ]
    }
   ],
   "source": [
    "# print the numbers to 1 to 50 using while loop\n",
    "num=1\n",
    "while num<=50:\n",
    "    print(num,end=\" \")\n",
    "    num=num+1\n"
   ]
  },
  {
   "cell_type": "code",
   "execution_count": 61,
   "metadata": {},
   "outputs": [
    {
     "name": "stdout",
     "output_type": "stream",
     "text": [
      "2 4 6 8 10 12 14 16 18 20 22 24 26 28 30 32 34 36 38 40 42 44 46 48 50 "
     ]
    }
   ],
   "source": [
    "# even no.s present in the range of 1 to 50\n",
    "num=2 # 2 to 51\n",
    "while num<=50:\n",
    "    print(num,end=\" \")\n",
    "    num=num+2\n"
   ]
  },
  {
   "cell_type": "code",
   "execution_count": 62,
   "metadata": {},
   "outputs": [
    {
     "name": "stdout",
     "output_type": "stream",
     "text": [
      "1 3 5 7 9 11 13 15 17 19 21 23 25 27 29 31 33 35 37 39 41 43 45 47 49 "
     ]
    }
   ],
   "source": [
    "# odd no.s present in the range of 1 to 50\n",
    "num=1 # 2 to 51\n",
    "while num<=50:\n",
    "    print(num,end=\" \")\n",
    "    num=num+2\n"
   ]
  },
  {
   "cell_type": "code",
   "execution_count": 1,
   "metadata": {
    "collapsed": true
   },
   "outputs": [
    {
     "name": "stdout",
     "output_type": "stream",
     "text": [
      "9\n",
      "9 x 1 = 9\n",
      "9 x 2 = 18\n",
      "9 x 3 = 27\n",
      "9 x 4 = 36\n",
      "9 x 5 = 45\n",
      "9 x 6 = 54\n",
      "9 x 7 = 63\n",
      "9 x 8 = 72\n",
      "9 x 9 = 81\n",
      "9 x 10 = 90\n"
     ]
    }
   ],
   "source": [
    "# print the multiplication table using while loop\n",
    "t=int(input())\n",
    "it=1\n",
    "while it<=10:\n",
    "    print(t,'x',it,'=',t*it) # process\n",
    "    it+=1"
   ]
  },
  {
   "cell_type": "code",
   "execution_count": 65,
   "metadata": {
    "collapsed": true
   },
   "outputs": [
    {
     "name": "stdout",
     "output_type": "stream",
     "text": [
      "9\n",
      "9 x 1 = 9\n",
      "9 x 3 = 27\n",
      "9 x 5 = 45\n",
      "9 x 7 = 63\n",
      "9 x 9 = 81\n"
     ]
    }
   ],
   "source": [
    "# print the multiplication table using while loop\n",
    "t=int(input())\n",
    "it=1\n",
    "while it<=10:\n",
    "    print(t,'x',it,'=',t*it) # process\n",
    "    it+=2"
   ]
  },
  {
   "cell_type": "code",
   "execution_count": 66,
   "metadata": {
    "collapsed": true
   },
   "outputs": [
    {
     "name": "stdout",
     "output_type": "stream",
     "text": [
      "10\n",
      "10 x 10 = 100\n",
      "10 x 9 = 90\n",
      "10 x 8 = 80\n",
      "10 x 7 = 70\n",
      "10 x 6 = 60\n",
      "10 x 5 = 50\n",
      "10 x 4 = 40\n",
      "10 x 3 = 30\n",
      "10 x 2 = 20\n",
      "10 x 1 = 10\n"
     ]
    }
   ],
   "source": [
    "# print the multiplication table in reverse order\n",
    "x=int(input())\n",
    "it=10\n",
    "while it>=1:\n",
    "    print(x,\"x\",it,'=',x*it) # \n",
    "    it=it-1 # it-=1"
   ]
  },
  {
   "cell_type": "code",
   "execution_count": 2,
   "metadata": {},
   "outputs": [
    {
     "name": "stdout",
     "output_type": "stream",
     "text": [
      "1 2 3 4 5 6 7 8 9 10 "
     ]
    }
   ],
   "source": [
    "num=1\n",
    "while num<=10:\n",
    "    print(num,end=\" \")\n",
    "    num+=1"
   ]
  },
  {
   "cell_type": "markdown",
   "metadata": {},
   "source": [
    "### Nested Loops\n",
    "- Loop within loop\n",
    "- Outer loop & inner loop\n",
    "- for iterator in iterable\n",
    "    - for iterator2 in iterable2:\n",
    "        - statements goes here"
   ]
  },
  {
   "cell_type": "markdown",
   "metadata": {},
   "source": [
    "#### matrix format\n",
    "- rows and columns\n",
    "- 2 dimensions:rows & cols\n",
    "- 1 2 3\n",
    "- 4 5 6  # 2rows with 3 columns,each row contains 3 cols,6 values"
   ]
  },
  {
   "cell_type": "code",
   "execution_count": 13,
   "metadata": {
    "collapsed": true
   },
   "outputs": [
    {
     "name": "stdout",
     "output_type": "stream",
     "text": [
      "1 2 3 4 5 6 7 8 \n",
      "1 2 3 4 5 6 7 8 \n",
      "1 2 3 4 5 6 7 8 \n"
     ]
    }
   ],
   "source": [
    "for row in range(1,4): # 3 rows\n",
    "    for col in range(1,9): # 4 cols\n",
    "        print(col,end=\" \")\n",
    "    print()"
   ]
  },
  {
   "cell_type": "code",
   "execution_count": 15,
   "metadata": {},
   "outputs": [
    {
     "name": "stdout",
     "output_type": "stream",
     "text": [
      "1 1 1 1 \n",
      "2 2 2 2 \n",
      "3 3 3 3 \n"
     ]
    }
   ],
   "source": [
    "for row in range(1,4): # 3 rows\n",
    "    for col in range(1,5): # 4 cols\n",
    "        print(row,end=\" \")\n",
    "    print()"
   ]
  },
  {
   "cell_type": "code",
   "execution_count": 18,
   "metadata": {},
   "outputs": [
    {
     "name": "stdout",
     "output_type": "stream",
     "text": [
      "1 \n",
      "1 2 \n",
      "1 2 3 \n",
      "1 2 3 4 \n",
      "1 2 3 4 5 \n"
     ]
    }
   ],
   "source": [
    "for row in range(1,6): # 3 rows\n",
    "    for col in range(1,row+1): # it=1-->1,it=2-->2 times== 1 2 ,it=3-->3 times 1 2 3\n",
    "        print(col,end=\" \")\n",
    "    print() # new line"
   ]
  },
  {
   "cell_type": "code",
   "execution_count": 17,
   "metadata": {
    "collapsed": true
   },
   "outputs": [
    {
     "name": "stdout",
     "output_type": "stream",
     "text": [
      "kits kits kits kits \n",
      "kits kits kits kits \n",
      "kits kits kits kits \n",
      "kits kits kits kits \n"
     ]
    }
   ],
   "source": [
    "for row in range(1,5): # 3 rows\n",
    "    for col in range(1,5): # 4 cols\n",
    "        print(\"kits\",end=\" \")\n",
    "    print()"
   ]
  },
  {
   "cell_type": "code",
   "execution_count": 20,
   "metadata": {},
   "outputs": [
    {
     "name": "stdout",
     "output_type": "stream",
     "text": [
      "1 2 3 4 5 6 \n",
      "1 2 3 4 5 \n",
      "1 2 3 4 \n",
      "1 2 3 \n",
      "1 2 \n",
      "1 \n"
     ]
    }
   ],
   "source": [
    "for row in range(6,0,-1): # 5 times\n",
    "    for col in range(1,row+1): # 1 to row\n",
    "        print(col,end=\" \")\n",
    "    print()"
   ]
  },
  {
   "cell_type": "code",
   "execution_count": 22,
   "metadata": {},
   "outputs": [
    {
     "name": "stdout",
     "output_type": "stream",
     "text": [
      "6 6 6 6 6 6 \n",
      "5 5 5 5 5 \n",
      "4 4 4 4 \n",
      "3 3 3 \n",
      "2 2 \n",
      "1 \n"
     ]
    }
   ],
   "source": [
    "for row in range(6,0,-1): # 5 times\n",
    "    for col in range(1,row+1): # 1 to row\n",
    "        print(row,end=\" \")\n",
    "    print()"
   ]
  },
  {
   "cell_type": "code",
   "execution_count": 24,
   "metadata": {},
   "outputs": [
    {
     "name": "stdout",
     "output_type": "stream",
     "text": [
      "* * * * * \n",
      "* * * * \n",
      "* * * \n",
      "* * \n",
      "* \n"
     ]
    }
   ],
   "source": [
    "for row in range(5,0,-1): # 5 times\n",
    "    for col in range(1,row+1): # 1 to row\n",
    "        print(\"*\",end=\" \")\n",
    "    print()"
   ]
  },
  {
   "cell_type": "code",
   "execution_count": 25,
   "metadata": {},
   "outputs": [
    {
     "name": "stdout",
     "output_type": "stream",
     "text": [
      "* \n",
      "* * \n",
      "* * * \n",
      "* * * * \n",
      "* * * * * \n"
     ]
    }
   ],
   "source": [
    "for row in range(1,6): # 5 times\n",
    "    for col in range(1,row+1): # 1 to row\n",
    "        print(\"*\",end=\" \")\n",
    "    print()"
   ]
  },
  {
   "cell_type": "code",
   "execution_count": 26,
   "metadata": {},
   "outputs": [
    {
     "name": "stdout",
     "output_type": "stream",
     "text": [
      "5 4 3 2 1 \n",
      "4 3 2 1 \n",
      "3 2 1 \n",
      "2 1 \n",
      "1 \n"
     ]
    }
   ],
   "source": [
    "for row in range(5,0,-1):\n",
    "    for col in range(row,0,-1):\n",
    "        print(col,end=\" \")\n",
    "    print()"
   ]
  },
  {
   "cell_type": "code",
   "execution_count": 27,
   "metadata": {},
   "outputs": [
    {
     "name": "stdout",
     "output_type": "stream",
     "text": [
      "5 5 5 5 5 \n",
      "4 4 4 4 \n",
      "3 3 3 \n",
      "2 2 \n",
      "1 \n"
     ]
    }
   ],
   "source": [
    "for row in range(5,0,-1):\n",
    "    for col in range(row,0,-1):\n",
    "        print(row,end=\" \")\n",
    "    print()"
   ]
  },
  {
   "cell_type": "code",
   "execution_count": 28,
   "metadata": {},
   "outputs": [
    {
     "name": "stdout",
     "output_type": "stream",
     "text": [
      "* * * * * \n",
      "* * * * \n",
      "* * * \n",
      "* * \n",
      "* \n"
     ]
    }
   ],
   "source": [
    "for row in range(5,0,-1):\n",
    "    for col in range(row,0,-1):\n",
    "        print(\"*\",end=\" \")\n",
    "    print()"
   ]
  },
  {
   "cell_type": "code",
   "execution_count": 32,
   "metadata": {},
   "outputs": [
    {
     "name": "stdout",
     "output_type": "stream",
     "text": [
      "first number:100\n",
      "second number:200\n",
      "101 103 107 109 113 127 131 137 139 149 151 157 163 167 173 179 181 191 193 197 199 "
     ]
    }
   ],
   "source": [
    "# print the prime numbers present within a range\n",
    "# using both for loop and while loop\n",
    "lw,up=int(input(\"first number:\")),int(input(\"second number:\"))\n",
    "for num in range(lw,up+1): # outer loop: 1 to 100:100 times\n",
    "    count=0\n",
    "    for val in range(1,num+1): # 1 to num:\n",
    "        if num%val==0: # factors\n",
    "            count+=1 # count the factors\n",
    "    if count is 2: # factors are 2\n",
    "        print(num,end=\" \")"
   ]
  },
  {
   "cell_type": "code",
   "execution_count": 1,
   "metadata": {
    "collapsed": true
   },
   "outputs": [
    {
     "ename": "SyntaxError",
     "evalue": "invalid syntax (<ipython-input-1-b2f9335493ad>, line 1)",
     "output_type": "error",
     "traceback": [
      "\u001b[1;36m  File \u001b[1;32m\"<ipython-input-1-b2f9335493ad>\"\u001b[1;36m, line \u001b[1;32m1\u001b[0m\n\u001b[1;33m    1 to 10: 10 times\u001b[0m\n\u001b[1;37m       ^\u001b[0m\n\u001b[1;31mSyntaxError\u001b[0m\u001b[1;31m:\u001b[0m invalid syntax\n"
     ]
    }
   ],
   "source": [
    " 1 to 10: 10 times\n",
    "        2 3 5 7: 2 factors:1 & num"
   ]
  },
  {
   "cell_type": "code",
   "execution_count": 2,
   "metadata": {
    "collapsed": true
   },
   "outputs": [
    {
     "name": "stdout",
     "output_type": "stream",
     "text": [
      "first number:90\n",
      "second number:150\n",
      "97 101 103 107 109 113 127 131 137 139 149 "
     ]
    }
   ],
   "source": [
    "# print the prime numbers present within a range\n",
    "# using both for loop and while loop\n",
    "# using for and for \n",
    "lw=int(input(\"first number:\"))\n",
    "up=int(input(\"second number:\"))\n",
    "for num in range(lw,up+1):\n",
    "    count=0\n",
    "    for val in range(1,num+1):\n",
    "        if num%val==0:\n",
    "            count+=1\n",
    "    if count is 2:\n",
    "        print(num,end=\" \")"
   ]
  },
  {
   "cell_type": "code",
   "execution_count": 3,
   "metadata": {
    "collapsed": true
   },
   "outputs": [
    {
     "name": "stdout",
     "output_type": "stream",
     "text": [
      "first number:10\n",
      "second number:50\n",
      "11 13 17 19 23 29 31 37 41 43 47 "
     ]
    }
   ],
   "source": [
    "# using while loop\n",
    "# while & while\n",
    "f,s=int(input(\"first number:\")),int(input(\"second number:\")) # f=10 & s=20\n",
    "\n",
    "while f<=s: # f should reach s\n",
    "    count=0\n",
    "    num=1\n",
    "    while num<=f:\n",
    "        if f%num==0:\n",
    "            count+=1\n",
    "        num+=1\n",
    "    if count==2:\n",
    "        print(f,end=\" \")\n",
    "    f+=1\n",
    "    "
   ]
  },
  {
   "cell_type": "code",
   "execution_count": null,
   "metadata": {},
   "outputs": [],
   "source": [
    "# print the all patterns using while loop\n",
    "# print prime numbers present within range\n",
    "# using while loop and for loop\n",
    "# for loop and while loop"
   ]
  },
  {
   "cell_type": "markdown",
   "metadata": {},
   "source": [
    "### continue statement\n",
    "- continues the flow of execution"
   ]
  },
  {
   "cell_type": "code",
   "execution_count": 8,
   "metadata": {},
   "outputs": [
    {
     "name": "stdout",
     "output_type": "stream",
     "text": [
      "1 3 5 7 9 11 13 15 17 19 "
     ]
    }
   ],
   "source": [
    "# print the odd numbers using even number logic\n",
    "for num in range(1,20):\n",
    "    if num%2==0: # even condition\n",
    "        continue # continues\n",
    "        print(\"continue executed\")\n",
    "    print(num,end=\" \")"
   ]
  },
  {
   "cell_type": "code",
   "execution_count": 2,
   "metadata": {},
   "outputs": [
    {
     "name": "stdout",
     "output_type": "stream",
     "text": [
      "1 2 3 4 5 6 "
     ]
    }
   ],
   "source": [
    "# break statement\n",
    "# print the values from 1 to 10\n",
    "num=1\n",
    "while num<=10:\n",
    "    print(num,end=\" \")\n",
    "    if num==6:\n",
    "        break\n",
    "        print(\"break executed\")\n",
    "    num+=1"
   ]
  },
  {
   "cell_type": "code",
   "execution_count": 4,
   "metadata": {
    "collapsed": true
   },
   "outputs": [
    {
     "name": "stdout",
     "output_type": "stream",
     "text": [
      "1\n",
      "2\n",
      "3\n",
      "4\n",
      "pass executed\n",
      "5\n",
      "6\n",
      "7\n",
      "8\n",
      "9\n",
      "10\n",
      "11\n",
      "12\n",
      "13\n",
      "14\n",
      "15\n"
     ]
    }
   ],
   "source": [
    "# using pass statements\n",
    "# pasuses the flow of execution for some time and works nothing\n",
    "x=1\n",
    "while x<=15:\n",
    "    if x==5:\n",
    "        pass\n",
    "        print(\"pass executed\")\n",
    "    print(x)\n",
    "    x+=1"
   ]
  },
  {
   "cell_type": "markdown",
   "metadata": {},
   "source": [
    "### Functions\n",
    "- a block/set of statements executed to perform a perticular task\n",
    "- modularity and code reusability\n",
    "- we can divide the entire code into number of parts--module\n",
    "- syntax:\n",
    "    - def function_name(args):\n",
    "        - the main logic \n",
    "       - return indicates end of function\n",
    "- functions are of 2 types:\n",
    "    - pre-defined functions\n",
    "        - functions were defined when the language is developed/design\n",
    "        - we can simply call and use them \n",
    "        - print() #to display the message\n",
    "        - int(),input(),min(),max(),sum(),list(),tuple()\n",
    "    - user-defined function\n",
    "        - defined by the user\n",
    "        - 4 ways to define:\n",
    "           - function with return statement and with arguments\n",
    "           - func without return and with args\n",
    "           - function with return and without args\n",
    "           - function without return and without args\n",
    "           \n",
    "- function definition\n",
    "    - the main logic\n",
    "    - keyword args and default args\n",
    "- function call/calling function\n",
    "    - the function get executed when it is called \n",
    "           "
   ]
  },
  {
   "cell_type": "code",
   "execution_count": null,
   "metadata": {},
   "outputs": [],
   "source": []
  }
 ],
 "metadata": {
  "kernelspec": {
   "display_name": "Python 3",
   "language": "python",
   "name": "python3"
  },
  "language_info": {
   "codemirror_mode": {
    "name": "ipython",
    "version": 3
   },
   "file_extension": ".py",
   "mimetype": "text/x-python",
   "name": "python",
   "nbconvert_exporter": "python",
   "pygments_lexer": "ipython3",
   "version": "3.7.4"
  }
 },
 "nbformat": 4,
 "nbformat_minor": 2
}
